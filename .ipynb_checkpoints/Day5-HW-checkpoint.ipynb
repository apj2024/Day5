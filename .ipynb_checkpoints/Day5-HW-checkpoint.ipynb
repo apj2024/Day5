{
 "cells": [
  {
   "cell_type": "markdown",
   "id": "ee554bcf-d385-4a3d-8e06-90ca8141ffd2",
   "metadata": {},
   "source": [
    "## Introduction to Data Science\n",
    "\n",
    "#### University of Redlands - DATA 101\n",
    "#### Prof: Joanna Bieri [joanna_bieri@redlands.edu](mailto:joanna_bieri@redlands.edu)\n",
    "#### [Class Website: data101.joannabieri.com](https://joannabieri.com/data101.html)\n",
    "\n",
    "---------------------------------------\n",
    "# Homework Day 5\n",
    "---------------------------------------\n",
    "\n",
    "GOALS:\n",
    "\n",
    "1. Answer all the questions from the lecture.\n",
    "2. Practice wrangling data\n",
    "3. (challenge) do a mini data analysis of your own!\n",
    "\n",
    "----------------------------------------------------------\n",
    "\n",
    "This homework has **7 questions** from the lecture and **2 Problems**.\n",
    "\n",
    "NOTE:\n",
    "* Questions tend to be short answer or things were you change very minor parts of some given code.\n",
    "* Problems tend to be more involved, like trying out our methods on a new column.\n",
    "* Challenge problems are optional! They are intended to challenge you to reach beyond the basics of the class. I hope you will try the challenge problems!"
   ]
  },
  {
   "cell_type": "code",
   "execution_count": 2,
   "id": "85d851b3-4123-484c-a51a-561490abcc68",
   "metadata": {},
   "outputs": [],
   "source": [
    "import numpy as np\n",
    "import pandas as pd\n",
    "\n",
    "import matplotlib.pyplot as plt\n",
    "import plotly.express as px\n",
    "from plotly.subplots import make_subplots\n",
    "import plotly.io as pio\n",
    "pio.renderers.defaule = 'colab'\n",
    "\n",
    "from itables import show"
   ]
  },
  {
   "cell_type": "markdown",
   "id": "69e2e95d-f2b6-478a-8abf-199182396a99",
   "metadata": {},
   "source": [
    "### Load the raw data:\n",
    "\n",
    "* Data from two hotels: one resort and one city hotel\n",
    "* Observations: Each row represents a hotel booking\n",
    "* Goal for original data collection: Development of prediction models to classify a hotel booking's likelihood to be canceled [Antonia et al., 2019](https://www.sciencedirect.com/science/article/pii/S2352340918315191#bib5)\n",
    "\n",
    "\n",
    "[Data Information: Tidy Tuesday](https://github.com/rfordatascience/tidytuesday/blob/master/data/2020/2020-02-11/readme.md)"
   ]
  },
  {
   "cell_type": "code",
   "execution_count": 4,
   "id": "40945f6e-1a32-4c95-9a56-686a09db83f2",
   "metadata": {},
   "outputs": [],
   "source": [
    "file_location = 'https://joannabieri.com/introdatascience/data/hotels.csv'\n",
    "DF_raw_hotels = pd.read_csv(file_location)"
   ]
  },
  {
   "cell_type": "code",
   "execution_count": 5,
   "id": "cf9bcb7c-2440-4651-aad0-d27e779933f6",
   "metadata": {
    "scrolled": true
   },
   "outputs": [
    {
     "data": {
      "text/html": [
       "<table id=\"itables_83056196_6163_4f62_a709_1afbb24e0d68\" class=\"display nowrap\" data-quarto-disable-processing=\"true\" style=\"table-layout:auto;width:auto;margin:auto;caption-side:bottom\">\n",
       "<thead>\n",
       "    <tr style=\"text-align: right;\">\n",
       "      \n",
       "      <th>hotel</th>\n",
       "      <th>is_canceled</th>\n",
       "      <th>lead_time</th>\n",
       "      <th>arrival_date_year</th>\n",
       "      <th>arrival_date_month</th>\n",
       "      <th>arrival_date_week_number</th>\n",
       "      <th>arrival_date_day_of_month</th>\n",
       "      <th>stays_in_weekend_nights</th>\n",
       "      <th>stays_in_week_nights</th>\n",
       "      <th>adults</th>\n",
       "      <th>children</th>\n",
       "      <th>babies</th>\n",
       "      <th>meal</th>\n",
       "      <th>country</th>\n",
       "      <th>market_segment</th>\n",
       "      <th>distribution_channel</th>\n",
       "      <th>is_repeated_guest</th>\n",
       "      <th>previous_cancellations</th>\n",
       "      <th>previous_bookings_not_canceled</th>\n",
       "      <th>reserved_room_type</th>\n",
       "      <th>assigned_room_type</th>\n",
       "      <th>booking_changes</th>\n",
       "      <th>deposit_type</th>\n",
       "      <th>agent</th>\n",
       "      <th>company</th>\n",
       "      <th>days_in_waiting_list</th>\n",
       "      <th>customer_type</th>\n",
       "      <th>adr</th>\n",
       "      <th>required_car_parking_spaces</th>\n",
       "      <th>total_of_special_requests</th>\n",
       "      <th>reservation_status</th>\n",
       "      <th>reservation_status_date</th>\n",
       "    </tr>\n",
       "  </thead><tbody><tr>\n",
       "<td style=\"vertical-align:middle; text-align:left\">\n",
       "<div style=\"float:left; margin-right: 10px;\">\n",
       "<a href=https://mwouts.github.io/itables/><svg class=\"main-svg\" xmlns=\"http://www.w3.org/2000/svg\" xmlns:xlink=\"http://www.w3.org/1999/xlink\"\n",
       "width=\"64\" viewBox=\"0 0 500 400\" style=\"font-family: 'Droid Sans', sans-serif;\">\n",
       "    <g style=\"fill:#d9d7fc\">\n",
       "        <path d=\"M100,400H500V357H100Z\" />\n",
       "        <path d=\"M100,300H400V257H100Z\" />\n",
       "        <path d=\"M0,200H400V157H0Z\" />\n",
       "        <path d=\"M100,100H500V57H100Z\" />\n",
       "        <path d=\"M100,350H500V307H100Z\" />\n",
       "        <path d=\"M100,250H400V207H100Z\" />\n",
       "        <path d=\"M0,150H400V107H0Z\" />\n",
       "        <path d=\"M100,50H500V7H100Z\" />\n",
       "    </g>\n",
       "    <g style=\"fill:#1a1366;stroke:#1a1366;\">\n",
       "   <rect x=\"100\" y=\"7\" width=\"400\" height=\"43\">\n",
       "    <animate\n",
       "      attributeName=\"width\"\n",
       "      values=\"0;400;0\"\n",
       "      dur=\"5s\"\n",
       "      repeatCount=\"indefinite\" />\n",
       "      <animate\n",
       "      attributeName=\"x\"\n",
       "      values=\"100;100;500\"\n",
       "      dur=\"5s\"\n",
       "      repeatCount=\"indefinite\" />\n",
       "  </rect>\n",
       "        <rect x=\"0\" y=\"107\" width=\"400\" height=\"43\">\n",
       "    <animate\n",
       "      attributeName=\"width\"\n",
       "      values=\"0;400;0\"\n",
       "      dur=\"3.5s\"\n",
       "      repeatCount=\"indefinite\" />\n",
       "    <animate\n",
       "      attributeName=\"x\"\n",
       "      values=\"0;0;400\"\n",
       "      dur=\"3.5s\"\n",
       "      repeatCount=\"indefinite\" />\n",
       "  </rect>\n",
       "        <rect x=\"100\" y=\"207\" width=\"300\" height=\"43\">\n",
       "    <animate\n",
       "      attributeName=\"width\"\n",
       "      values=\"0;300;0\"\n",
       "      dur=\"3s\"\n",
       "      repeatCount=\"indefinite\" />\n",
       "    <animate\n",
       "      attributeName=\"x\"\n",
       "      values=\"100;100;400\"\n",
       "      dur=\"3s\"\n",
       "      repeatCount=\"indefinite\" />\n",
       "  </rect>\n",
       "        <rect x=\"100\" y=\"307\" width=\"400\" height=\"43\">\n",
       "    <animate\n",
       "      attributeName=\"width\"\n",
       "      values=\"0;400;0\"\n",
       "      dur=\"4s\"\n",
       "      repeatCount=\"indefinite\" />\n",
       "      <animate\n",
       "      attributeName=\"x\"\n",
       "      values=\"100;100;500\"\n",
       "      dur=\"4s\"\n",
       "      repeatCount=\"indefinite\" />\n",
       "  </rect>\n",
       "        <g style=\"fill:transparent;stroke-width:8; stroke-linejoin:round\" rx=\"5\">\n",
       "            <g transform=\"translate(45 50) rotate(-45)\">\n",
       "                <circle r=\"33\" cx=\"0\" cy=\"0\" />\n",
       "                <rect x=\"-8\" y=\"32\" width=\"16\" height=\"30\" />\n",
       "            </g>\n",
       "\n",
       "            <g transform=\"translate(450 152)\">\n",
       "                <polyline points=\"-15,-20 -35,-20 -35,40 25,40 25,20\" />\n",
       "                <rect x=\"-15\" y=\"-40\" width=\"60\" height=\"60\" />\n",
       "            </g>\n",
       "\n",
       "            <g transform=\"translate(50 352)\">\n",
       "                <polygon points=\"-35,-5 0,-40 35,-5\" />\n",
       "                <polygon points=\"-35,10 0,45 35,10\" />\n",
       "            </g>\n",
       "\n",
       "            <g transform=\"translate(75 250)\">\n",
       "                <polyline points=\"-30,30 -60,0 -30,-30\" />\n",
       "                <polyline points=\"0,30 -30,0 0,-30\" />\n",
       "            </g>\n",
       "\n",
       "            <g transform=\"translate(425 250) rotate(180)\">\n",
       "                <polyline points=\"-30,30 -60,0 -30,-30\" />\n",
       "                <polyline points=\"0,30 -30,0 0,-30\" />\n",
       "            </g>\n",
       "        </g>\n",
       "    </g>\n",
       "</svg>\n",
       "</a>\n",
       "</div>\n",
       "<div>\n",
       "Loading ITables v2.1.5 from the internet...\n",
       "(need <a href=https://mwouts.github.io/itables/troubleshooting.html>help</a>?)</td>\n",
       "</div>\n",
       "</tr></tbody>\n",
       "\n",
       "</table>\n",
       "<link href=\"https://www.unpkg.com/dt_for_itables@2.0.12/dt_bundle.css\" rel=\"stylesheet\">\n",
       "<script type=\"module\">\n",
       "    import {DataTable, jQuery as $} from 'https://www.unpkg.com/dt_for_itables@2.0.12/dt_bundle.js';\n",
       "\n",
       "    document.querySelectorAll(\"#itables_83056196_6163_4f62_a709_1afbb24e0d68:not(.dataTable)\").forEach(table => {\n",
       "        // Define the table data\n",
       "        const data = [[\"Resort Hotel\", 0, 342, 2015, \"July\", 27, 1, 0, 0, 2, 0.0, 0, \"BB\", \"PRT\", \"Direct\", \"Direct\", 0, 0, 0, \"C\", \"C\", 3, \"No Deposit\", NaN, NaN, 0, \"Transient\", 0.0, 0, 0, \"Check-Out\", \"2015-07-01\"], [\"Resort Hotel\", 0, 737, 2015, \"July\", 27, 1, 0, 0, 2, 0.0, 0, \"BB\", \"PRT\", \"Direct\", \"Direct\", 0, 0, 0, \"C\", \"C\", 4, \"No Deposit\", NaN, NaN, 0, \"Transient\", 0.0, 0, 0, \"Check-Out\", \"2015-07-01\"], [\"Resort Hotel\", 0, 7, 2015, \"July\", 27, 1, 0, 1, 1, 0.0, 0, \"BB\", \"GBR\", \"Direct\", \"Direct\", 0, 0, 0, \"A\", \"C\", 0, \"No Deposit\", NaN, NaN, 0, \"Transient\", 75.0, 0, 0, \"Check-Out\", \"2015-07-02\"], [\"Resort Hotel\", 0, 13, 2015, \"July\", 27, 1, 0, 1, 1, 0.0, 0, \"BB\", \"GBR\", \"Corporate\", \"Corporate\", 0, 0, 0, \"A\", \"A\", 0, \"No Deposit\", 304.0, NaN, 0, \"Transient\", 75.0, 0, 0, \"Check-Out\", \"2015-07-02\"], [\"Resort Hotel\", 0, 14, 2015, \"July\", 27, 1, 0, 2, 2, 0.0, 0, \"BB\", \"GBR\", \"Online TA\", \"TA/TO\", 0, 0, 0, \"A\", \"A\", 0, \"No Deposit\", 240.0, NaN, 0, \"Transient\", 98.0, 0, 1, \"Check-Out\", \"2015-07-03\"], [\"Resort Hotel\", 0, 14, 2015, \"July\", 27, 1, 0, 2, 2, 0.0, 0, \"BB\", \"GBR\", \"Online TA\", \"TA/TO\", 0, 0, 0, \"A\", \"A\", 0, \"No Deposit\", 240.0, NaN, 0, \"Transient\", 98.0, 0, 1, \"Check-Out\", \"2015-07-03\"], [\"Resort Hotel\", 0, 0, 2015, \"July\", 27, 1, 0, 2, 2, 0.0, 0, \"BB\", \"PRT\", \"Direct\", \"Direct\", 0, 0, 0, \"C\", \"C\", 0, \"No Deposit\", NaN, NaN, 0, \"Transient\", 107.0, 0, 0, \"Check-Out\", \"2015-07-03\"], [\"Resort Hotel\", 0, 9, 2015, \"July\", 27, 1, 0, 2, 2, 0.0, 0, \"FB\", \"PRT\", \"Direct\", \"Direct\", 0, 0, 0, \"C\", \"C\", 0, \"No Deposit\", 303.0, NaN, 0, \"Transient\", 103.0, 0, 1, \"Check-Out\", \"2015-07-03\"], [\"Resort Hotel\", 1, 85, 2015, \"July\", 27, 1, 0, 3, 2, 0.0, 0, \"BB\", \"PRT\", \"Online TA\", \"TA/TO\", 0, 0, 0, \"A\", \"A\", 0, \"No Deposit\", 240.0, NaN, 0, \"Transient\", 82.0, 0, 1, \"Canceled\", \"2015-05-06\"], [\"Resort Hotel\", 1, 75, 2015, \"July\", 27, 1, 0, 3, 2, 0.0, 0, \"HB\", \"PRT\", \"Offline TA/TO\", \"TA/TO\", 0, 0, 0, \"D\", \"D\", 0, \"No Deposit\", 15.0, NaN, 0, \"Transient\", 105.5, 0, 0, \"Canceled\", \"2015-04-22\"], [\"Resort Hotel\", 1, 23, 2015, \"July\", 27, 1, 0, 4, 2, 0.0, 0, \"BB\", \"PRT\", \"Online TA\", \"TA/TO\", 0, 0, 0, \"E\", \"E\", 0, \"No Deposit\", 240.0, NaN, 0, \"Transient\", 123.0, 0, 0, \"Canceled\", \"2015-06-23\"], [\"Resort Hotel\", 0, 35, 2015, \"July\", 27, 1, 0, 4, 2, 0.0, 0, \"HB\", \"PRT\", \"Online TA\", \"TA/TO\", 0, 0, 0, \"D\", \"D\", 0, \"No Deposit\", 240.0, NaN, 0, \"Transient\", 145.0, 0, 0, \"Check-Out\", \"2015-07-05\"], [\"Resort Hotel\", 0, 68, 2015, \"July\", 27, 1, 0, 4, 2, 0.0, 0, \"BB\", \"USA\", \"Online TA\", \"TA/TO\", 0, 0, 0, \"D\", \"E\", 0, \"No Deposit\", 240.0, NaN, 0, \"Transient\", 97.0, 0, 3, \"Check-Out\", \"2015-07-05\"], [\"Resort Hotel\", 0, 18, 2015, \"July\", 27, 1, 0, 4, 2, 1.0, 0, \"HB\", \"ESP\", \"Online TA\", \"TA/TO\", 0, 0, 0, \"G\", \"G\", 1, \"No Deposit\", 241.0, NaN, 0, \"Transient\", 154.77, 0, 1, \"Check-Out\", \"2015-07-05\"], [\"Resort Hotel\", 0, 37, 2015, \"July\", 27, 1, 0, 4, 2, 0.0, 0, \"BB\", \"PRT\", \"Online TA\", \"TA/TO\", 0, 0, 0, \"E\", \"E\", 0, \"No Deposit\", 241.0, NaN, 0, \"Transient\", 94.71, 0, 0, \"Check-Out\", \"2015-07-05\"], [\"Resort Hotel\", 0, 68, 2015, \"July\", 27, 1, 0, 4, 2, 0.0, 0, \"BB\", \"IRL\", \"Online TA\", \"TA/TO\", 0, 0, 0, \"D\", \"E\", 0, \"No Deposit\", 240.0, NaN, 0, \"Transient\", 97.0, 0, 3, \"Check-Out\", \"2015-07-05\"], [\"Resort Hotel\", 0, 37, 2015, \"July\", 27, 1, 0, 4, 2, 0.0, 0, \"BB\", \"PRT\", \"Offline TA/TO\", \"TA/TO\", 0, 0, 0, \"E\", \"E\", 0, \"No Deposit\", 8.0, NaN, 0, \"Contract\", 97.5, 0, 0, \"Check-Out\", \"2015-07-05\"], [\"Resort Hotel\", 0, 12, 2015, \"July\", 27, 1, 0, 1, 2, 0.0, 0, \"BB\", \"IRL\", \"Online TA\", \"TA/TO\", 0, 0, 0, \"A\", \"E\", 0, \"No Deposit\", 240.0, NaN, 0, \"Transient\", 88.2, 0, 0, \"Check-Out\", \"2015-07-02\"], [\"Resort Hotel\", 0, 0, 2015, \"July\", 27, 1, 0, 1, 2, 0.0, 0, \"BB\", \"FRA\", \"Corporate\", \"Corporate\", 0, 0, 0, \"A\", \"G\", 0, \"No Deposit\", NaN, 110.0, 0, \"Transient\", 107.42, 0, 0, \"Check-Out\", \"2015-07-02\"], [\"Resort Hotel\", 0, 7, 2015, \"July\", 27, 1, 0, 4, 2, 0.0, 0, \"BB\", \"GBR\", \"Direct\", \"Direct\", 0, 0, 0, \"G\", \"G\", 0, \"No Deposit\", 250.0, NaN, 0, \"Transient\", 153.0, 0, 1, \"Check-Out\", \"2015-07-05\"], [\"Resort Hotel\", 0, 37, 2015, \"July\", 27, 1, 1, 4, 1, 0.0, 0, \"BB\", \"GBR\", \"Online TA\", \"TA/TO\", 0, 0, 0, \"F\", \"F\", 0, \"No Deposit\", 241.0, NaN, 0, \"Transient\", 97.29, 0, 1, \"Check-Out\", \"2015-07-06\"], [\"Resort Hotel\", 0, 72, 2015, \"July\", 27, 1, 2, 4, 2, 0.0, 0, \"BB\", \"PRT\", \"Direct\", \"Direct\", 0, 0, 0, \"A\", \"A\", 1, \"No Deposit\", 250.0, NaN, 0, \"Transient\", 84.67, 0, 1, \"Check-Out\", \"2015-07-07\"], [\"Resort Hotel\", 0, 72, 2015, \"July\", 27, 1, 2, 4, 2, 0.0, 0, \"BB\", \"PRT\", \"Direct\", \"Direct\", 0, 0, 0, \"A\", \"A\", 1, \"No Deposit\", 250.0, NaN, 0, \"Transient\", 84.67, 0, 1, \"Check-Out\", \"2015-07-07\"], [\"Resort Hotel\", 0, 72, 2015, \"July\", 27, 1, 2, 4, 2, 0.0, 0, \"BB\", \"PRT\", \"Direct\", \"Direct\", 0, 0, 0, \"D\", \"D\", 1, \"No Deposit\", 250.0, NaN, 0, \"Transient\", 99.67, 0, 1, \"Check-Out\", \"2015-07-07\"], [\"Resort Hotel\", 0, 127, 2015, \"July\", 27, 1, 2, 5, 2, 0.0, 0, \"HB\", \"GBR\", \"Offline TA/TO\", \"TA/TO\", 0, 0, 0, \"D\", \"I\", 0, \"No Deposit\", 115.0, NaN, 0, \"Contract\", 94.95, 0, 1, \"Check-Out\", \"2015-07-01\"], [\"Resort Hotel\", 0, 78, 2015, \"July\", 27, 1, 2, 5, 2, 0.0, 0, \"BB\", \"PRT\", \"Offline TA/TO\", \"TA/TO\", 0, 0, 0, \"D\", \"D\", 0, \"No Deposit\", 5.0, NaN, 0, \"Transient\", 63.6, 1, 0, \"Check-Out\", \"2015-07-08\"], [\"Resort Hotel\", 0, 48, 2015, \"July\", 27, 1, 2, 5, 2, 0.0, 0, \"BB\", \"IRL\", \"Offline TA/TO\", \"TA/TO\", 0, 0, 0, \"D\", \"D\", 0, \"No Deposit\", 8.0, NaN, 0, \"Contract\", 79.5, 0, 0, \"Check-Out\", \"2015-07-08\"], [\"Resort Hotel\", 1, 60, 2015, \"July\", 27, 1, 2, 5, 2, 0.0, 0, \"BB\", \"PRT\", \"Online TA\", \"TA/TO\", 0, 0, 0, \"E\", \"E\", 0, \"No Deposit\", 240.0, NaN, 0, \"Transient\", 107.0, 0, 2, \"Canceled\", \"2015-05-11\"], [\"Resort Hotel\", 0, 77, 2015, \"July\", 27, 1, 2, 5, 2, 0.0, 0, \"BB\", \"PRT\", \"Online TA\", \"TA/TO\", 0, 0, 0, \"A\", \"A\", 0, \"No Deposit\", 240.0, NaN, 0, \"Transient\", 94.0, 0, 0, \"Check-Out\", \"2015-07-08\"], [\"Resort Hotel\", 0, 99, 2015, \"July\", 27, 1, 2, 5, 2, 0.0, 0, \"BB\", \"PRT\", \"Online TA\", \"TA/TO\", 0, 0, 0, \"D\", \"D\", 0, \"No Deposit\", 240.0, NaN, 0, \"Transient\", 87.3, 1, 1, \"Check-Out\", \"2015-07-08\"], [\"Resort Hotel\", 0, 118, 2015, \"July\", 27, 1, 4, 10, 1, 0.0, 0, \"BB\", \"NaN\", \"Direct\", \"Direct\", 0, 0, 0, \"A\", \"A\", 2, \"No Deposit\", NaN, NaN, 0, \"Transient\", 62.0, 0, 2, \"Check-Out\", \"2015-07-15\"], [\"Resort Hotel\", 0, 95, 2015, \"July\", 27, 1, 4, 11, 2, 0.0, 0, \"BB\", \"GBR\", \"Offline TA/TO\", \"TA/TO\", 0, 0, 0, \"D\", \"D\", 0, \"No Deposit\", 241.0, NaN, 0, \"Transient\", 63.86, 0, 0, \"Check-Out\", \"2015-07-16\"], [\"Resort Hotel\", 1, 96, 2015, \"July\", 27, 1, 2, 8, 2, 0.0, 0, \"BB\", \"PRT\", \"Direct\", \"Direct\", 0, 0, 0, \"E\", \"E\", 0, \"No Deposit\", NaN, NaN, 0, \"Transient\", 108.3, 0, 2, \"Canceled\", \"2015-05-29\"], [\"Resort Hotel\", 0, 69, 2015, \"July\", 27, 2, 2, 4, 2, 0.0, 0, \"BB\", \"IRL\", \"Offline TA/TO\", \"TA/TO\", 0, 0, 0, \"A\", \"C\", 0, \"No Deposit\", 175.0, NaN, 0, \"Transient\", 65.5, 0, 0, \"Check-Out\", \"2015-07-08\"], [\"Resort Hotel\", 1, 45, 2015, \"July\", 27, 2, 1, 3, 3, 0.0, 0, \"BB\", \"PRT\", \"Online TA\", \"TA/TO\", 0, 0, 0, \"D\", \"D\", 0, \"No Deposit\", 241.0, NaN, 0, \"Transient\", 108.8, 0, 1, \"Canceled\", \"2015-05-19\"], [\"Resort Hotel\", 1, 40, 2015, \"July\", 27, 2, 1, 3, 3, 0.0, 0, \"BB\", \"PRT\", \"Online TA\", \"TA/TO\", 0, 0, 0, \"D\", \"D\", 0, \"No Deposit\", 241.0, NaN, 0, \"Transient\", 108.8, 0, 1, \"Canceled\", \"2015-06-19\"], [\"Resort Hotel\", 0, 15, 2015, \"July\", 27, 2, 1, 3, 2, 0.0, 0, \"BB\", \"ESP\", \"Online TA\", \"TA/TO\", 0, 0, 0, \"A\", \"C\", 0, \"No Deposit\", 240.0, NaN, 0, \"Transient\", 98.0, 0, 0, \"Check-Out\", \"2015-07-06\"], [\"Resort Hotel\", 0, 36, 2015, \"July\", 27, 2, 1, 3, 3, 0.0, 0, \"BB\", \"PRT\", \"Online TA\", \"TA/TO\", 0, 0, 0, \"D\", \"D\", 0, \"No Deposit\", 241.0, NaN, 0, \"Transient\", 108.8, 0, 1, \"Check-Out\", \"2015-07-06\"], [\"Resort Hotel\", 1, 43, 2015, \"July\", 27, 2, 1, 3, 3, 0.0, 0, \"BB\", \"PRT\", \"Online TA\", \"TA/TO\", 0, 0, 0, \"D\", \"D\", 0, \"No Deposit\", 241.0, NaN, 0, \"Transient\", 108.8, 0, 0, \"Canceled\", \"2015-05-23\"], [\"Resort Hotel\", 0, 70, 2015, \"July\", 27, 2, 2, 3, 2, 0.0, 0, \"HB\", \"ROU\", \"Direct\", \"Direct\", 0, 0, 0, \"E\", \"E\", 0, \"No Deposit\", 250.0, NaN, 0, \"Transient\", 137.0, 0, 1, \"Check-Out\", \"2015-07-07\"], [\"Resort Hotel\", 1, 45, 2015, \"July\", 27, 2, 2, 3, 2, 0.0, 0, \"BB\", \"PRT\", \"Online TA\", \"TA/TO\", 0, 0, 0, \"G\", \"G\", 0, \"No Deposit\", 241.0, NaN, 0, \"Transient\", 117.81, 0, 0, \"Canceled\", \"2015-05-18\"], [\"Resort Hotel\", 0, 45, 2015, \"July\", 27, 2, 2, 3, 2, 0.0, 0, \"BB\", \"IRL\", \"Offline TA/TO\", \"TA/TO\", 0, 0, 0, \"D\", \"D\", 0, \"No Deposit\", 8.0, NaN, 0, \"Contract\", 79.5, 0, 0, \"Check-Out\", \"2015-07-07\"], [\"Resort Hotel\", 0, 16, 2015, \"July\", 27, 2, 2, 3, 2, 0.0, 0, \"BB\", \"ESP\", \"Direct\", \"Direct\", 0, 0, 0, \"F\", \"F\", 0, \"No Deposit\", NaN, NaN, 0, \"Transient\", 123.0, 0, 0, \"Check-Out\", \"2015-07-07\"], [\"Resort Hotel\", 0, 70, 2015, \"July\", 27, 2, 2, 3, 2, 0.0, 0, \"HB\", \"ROU\", \"Direct\", \"Direct\", 0, 0, 0, \"E\", \"E\", 0, \"No Deposit\", 250.0, NaN, 0, \"Transient\", 137.0, 0, 1, \"Check-Out\", \"2015-07-07\"], [\"Resort Hotel\", 0, 107, 2015, \"July\", 27, 2, 2, 5, 2, 0.0, 0, \"BB\", \"PRT\", \"Online TA\", \"TA/TO\", 0, 0, 0, \"A\", \"A\", 0, \"No Deposit\", 240.0, NaN, 0, \"Transient\", 110.7, 0, 2, \"Check-Out\", \"2015-07-09\"], [\"Resort Hotel\", 1, 47, 2015, \"July\", 27, 2, 2, 5, 2, 2.0, 0, \"BB\", \"PRT\", \"Online TA\", \"TA/TO\", 0, 0, 0, \"G\", \"G\", 0, \"No Deposit\", 240.0, NaN, 0, \"Transient\", 153.0, 0, 0, \"Canceled\", \"2015-06-02\"], [\"Resort Hotel\", 0, 96, 2015, \"July\", 27, 2, 2, 5, 2, 0.0, 0, \"BB\", \"ESP\", \"Offline TA/TO\", \"TA/TO\", 0, 0, 0, \"A\", \"A\", 0, \"No Deposit\", 134.0, NaN, 0, \"Transient\", 58.95, 0, 1, \"Check-Out\", \"2015-07-09\"], [\"Resort Hotel\", 0, 113, 2015, \"July\", 27, 2, 2, 5, 2, 0.0, 0, \"BB\", \"NOR\", \"Offline TA/TO\", \"TA/TO\", 0, 0, 0, \"E\", \"E\", 0, \"No Deposit\", 156.0, NaN, 0, \"Transient-Party\", 82.88, 0, 2, \"Check-Out\", \"2015-07-09\"], [\"Resort Hotel\", 0, 90, 2015, \"July\", 27, 2, 2, 5, 2, 0.0, 0, \"HB\", \"GBR\", \"Offline TA/TO\", \"TA/TO\", 0, 0, 0, \"A\", \"B\", 1, \"No Deposit\", 243.0, NaN, 0, \"Contract\", 82.35, 0, 0, \"Check-Out\", \"2015-07-09\"], [\"Resort Hotel\", 0, 50, 2015, \"July\", 27, 2, 2, 5, 2, 0.0, 0, \"HB\", \"IRL\", \"Online TA\", \"TA/TO\", 0, 0, 0, \"E\", \"F\", 1, \"No Deposit\", 241.0, NaN, 0, \"Transient\", 119.35, 0, 1, \"Check-Out\", \"2015-07-09\"], [\"Resort Hotel\", 0, 113, 2015, \"July\", 27, 2, 2, 5, 2, 0.0, 0, \"BB\", \"NOR\", \"Offline TA/TO\", \"TA/TO\", 0, 0, 0, \"D\", \"D\", 0, \"No Deposit\", 156.0, NaN, 0, \"Transient-Party\", 67.58, 0, 2, \"Check-Out\", \"2015-07-09\"], [\"Resort Hotel\", 0, 93, 2015, \"July\", 27, 2, 3, 8, 2, 0.0, 0, \"BB\", \"IRL\", \"Offline TA/TO\", \"TA/TO\", 0, 0, 0, \"A\", \"A\", 0, \"No Deposit\", 156.0, NaN, 0, \"Contract\", 56.01, 0, 0, \"Check-Out\", \"2015-07-13\"], [\"Resort Hotel\", 0, 76, 2015, \"July\", 27, 2, 4, 10, 2, 0.0, 0, \"BB\", \"OMN\", \"Offline TA/TO\", \"TA/TO\", 0, 0, 0, \"D\", \"D\", 0, \"No Deposit\", 243.0, NaN, 0, \"Contract\", 110.7, 0, 0, \"Check-Out\", \"2015-07-16\"], [\"Resort Hotel\", 0, 3, 2015, \"July\", 27, 2, 0, 1, 2, 0.0, 0, \"BB\", \"ESP\", \"Online TA\", \"TA/TO\", 0, 0, 0, \"A\", \"C\", 0, \"No Deposit\", 240.0, NaN, 0, \"Transient\", 88.2, 1, 0, \"Check-Out\", \"2015-07-03\"], [\"Resort Hotel\", 0, 1, 2015, \"July\", 27, 2, 0, 1, 2, 0.0, 0, \"BB\", \"ARG\", \"Online TA\", \"TA/TO\", 0, 0, 0, \"H\", \"H\", 0, \"No Deposit\", 240.0, NaN, 0, \"Transient\", 147.0, 1, 0, \"Check-Out\", \"2015-07-03\"], [\"Resort Hotel\", 0, 1, 2015, \"July\", 27, 2, 0, 1, 2, 2.0, 0, \"BB\", \"ESP\", \"Direct\", \"Direct\", 0, 0, 0, \"C\", \"C\", 0, \"No Deposit\", NaN, NaN, 0, \"Transient\", 107.0, 1, 2, \"Check-Out\", \"2015-07-03\"], [\"Resort Hotel\", 0, 0, 2015, \"July\", 27, 2, 0, 1, 2, 0.0, 0, \"BB\", \"PRT\", \"Direct\", \"Direct\", 0, 0, 0, \"H\", \"H\", 0, \"No Deposit\", NaN, NaN, 0, \"Transient\", 147.0, 0, 0, \"Check-Out\", \"2015-07-03\"], [\"Resort Hotel\", 0, 0, 2015, \"July\", 27, 2, 0, 1, 2, 0.0, 0, \"BB\", \"PRT\", \"Online TA\", \"TA/TO\", 0, 0, 0, \"A\", \"D\", 0, \"No Deposit\", 240.0, NaN, 0, \"Transient\", 117.9, 0, 2, \"Check-Out\", \"2015-07-03\"], [\"Resort Hotel\", 0, 0, 2015, \"July\", 27, 2, 0, 1, 2, 0.0, 0, \"BB\", \"PRT\", \"Direct\", \"Direct\", 0, 0, 0, \"G\", \"G\", 0, \"No Deposit\", NaN, NaN, 0, \"Transient\", 123.0, 0, 0, \"Check-Out\", \"2015-07-03\"], [\"Resort Hotel\", 0, 14, 2015, \"July\", 27, 2, 0, 2, 2, 0.0, 0, \"BB\", \"USA\", \"Online TA\", \"TA/TO\", 0, 0, 0, \"A\", \"C\", 0, \"No Deposit\", 242.0, NaN, 0, \"Transient\", 98.0, 0, 1, \"Check-Out\", \"2015-07-04\"], [\"Resort Hotel\", 0, 10, 2015, \"July\", 27, 2, 0, 2, 2, 0.0, 0, \"BB\", \"PRT\", \"Online TA\", \"TA/TO\", 0, 0, 0, \"G\", \"G\", 0, \"No Deposit\", 241.0, NaN, 0, \"Transient\", 117.81, 0, 0, \"Check-Out\", \"2015-07-04\"], [\"Resort Hotel\", 0, 5, 2015, \"July\", 27, 2, 0, 2, 2, 0.0, 0, \"BB\", \"IRL\", \"Online TA\", \"TA/TO\", 0, 0, 0, \"E\", \"E\", 0, \"No Deposit\", 240.0, NaN, 0, \"Transient\", 135.0, 1, 2, \"Check-Out\", \"2015-07-04\"], [\"Resort Hotel\", 0, 17, 2015, \"July\", 27, 2, 0, 3, 2, 0.0, 0, \"BB\", \"ESP\", \"Direct\", \"Direct\", 0, 0, 0, \"F\", \"F\", 0, \"No Deposit\", 250.0, NaN, 0, \"Transient\", 133.0, 0, 1, \"Check-Out\", \"2015-07-05\"], [\"Resort Hotel\", 0, 93, 2015, \"July\", 27, 2, 0, 3, 2, 0.0, 0, \"BB\", \"IRL\", \"Offline TA/TO\", \"TA/TO\", 0, 0, 0, \"A\", \"C\", 0, \"No Deposit\", 115.0, NaN, 0, \"Contract\", 58.95, 0, 0, \"Check-Out\", \"2015-07-05\"], [\"Resort Hotel\", 1, 3, 2015, \"July\", 27, 2, 0, 3, 2, 0.0, 0, \"HB\", \"PRT\", \"Online TA\", \"TA/TO\", 0, 0, 0, \"A\", \"A\", 0, \"No Deposit\", 240.0, NaN, 0, \"Transient\", 136.33, 0, 2, \"Canceled\", \"2015-06-29\"], [\"Resort Hotel\", 0, 10, 2015, \"July\", 27, 3, 0, 2, 2, 2.0, 0, \"BB\", \"USA\", \"Online TA\", \"TA/TO\", 0, 0, 0, \"G\", \"H\", 0, \"No Deposit\", 240.0, NaN, 0, \"Transient\", 153.0, 1, 0, \"Check-Out\", \"2015-07-05\"], [\"Resort Hotel\", 0, 3, 2015, \"July\", 27, 3, 0, 2, 2, 0.0, 0, \"BB\", \"ESP\", \"Online TA\", \"TA/TO\", 0, 0, 0, \"A\", \"C\", 0, \"No Deposit\", 240.0, NaN, 0, \"Transient\", 110.5, 0, 0, \"Check-Out\", \"2015-07-05\"], [\"Resort Hotel\", 0, 51, 2015, \"July\", 27, 3, 0, 2, 2, 0.0, 0, \"BB\", \"POL\", \"Online TA\", \"TA/TO\", 0, 0, 0, \"D\", \"D\", 0, \"No Deposit\", 242.0, NaN, 0, \"Transient\", 97.0, 0, 0, \"Check-Out\", \"2015-07-05\"], [\"Resort Hotel\", 1, 71, 2015, \"July\", 27, 3, 0, 2, 3, 0.0, 0, \"BB\", \"PRT\", \"Offline TA/TO\", \"TA/TO\", 0, 0, 0, \"A\", \"A\", 0, \"No Deposit\", 242.0, NaN, 0, \"Transient\", 110.3, 0, 2, \"Canceled\", \"2015-06-16\"], [\"Resort Hotel\", 1, 63, 2015, \"July\", 27, 3, 0, 2, 2, 0.0, 0, \"BB\", \"PRT\", \"Online TA\", \"TA/TO\", 0, 0, 0, \"A\", \"A\", 0, \"No Deposit\", 240.0, NaN, 0, \"Transient\", 82.0, 0, 2, \"Canceled\", \"2015-06-18\"], [\"Resort Hotel\", 1, 62, 2015, \"July\", 27, 3, 0, 2, 2, 0.0, 0, \"BB\", \"PRT\", \"Online TA\", \"TA/TO\", 0, 0, 0, \"D\", \"D\", 0, \"No Deposit\", 240.0, NaN, 0, \"Transient\", 97.0, 0, 1, \"Canceled\", \"2015-07-03\"], [\"Resort Hotel\", 1, 101, 2015, \"July\", 27, 3, 0, 2, 2, 0.0, 0, \"BB\", \"PRT\", \"Online TA\", \"TA/TO\", 0, 0, 0, \"A\", \"A\", 0, \"No Deposit\", 240.0, NaN, 0, \"Transient\", 73.8, 0, 1, \"Canceled\", \"2015-06-12\"], [\"Resort Hotel\", 0, 2, 2015, \"July\", 27, 3, 0, 2, 2, 0.0, 0, \"HB\", \"PRT\", \"Offline TA/TO\", \"TA/TO\", 0, 0, 0, \"A\", \"A\", 0, \"No Deposit\", 3.0, NaN, 0, \"Transient\", 91.5, 0, 0, \"Check-Out\", \"2015-07-05\"], [\"Resort Hotel\", 0, 15, 2015, \"July\", 27, 3, 0, 2, 2, 0.0, 0, \"BB\", \"ESP\", \"Online TA\", \"TA/TO\", 0, 0, 0, \"A\", \"A\", 0, \"No Deposit\", 240.0, NaN, 0, \"Transient\", 114.5, 0, 0, \"Check-Out\", \"2015-07-05\"], [\"Resort Hotel\", 1, 51, 2015, \"July\", 27, 3, 0, 2, 3, 0.0, 0, \"BB\", \"PRT\", \"Online TA\", \"TA/TO\", 0, 0, 0, \"A\", \"A\", 0, \"No Deposit\", 242.0, NaN, 0, \"Transient\", 110.3, 0, 0, \"Canceled\", \"2015-06-09\"], [\"Resort Hotel\", 0, 3, 2015, \"July\", 27, 3, 1, 2, 2, 0.0, 0, \"BB\", \"ESP\", \"Online TA\", \"TA/TO\", 0, 0, 0, \"A\", \"A\", 0, \"No Deposit\", 240.0, NaN, 0, \"Transient\", 90.9, 1, 0, \"Check-Out\", \"2015-07-06\"], [\"Resort Hotel\", 1, 48, 2015, \"July\", 27, 3, 1, 2, 2, 0.0, 0, \"BB\", \"PRT\", \"Online TA\", \"TA/TO\", 0, 0, 0, \"E\", \"E\", 0, \"No Deposit\", 240.0, NaN, 0, \"Transient\", 123.0, 0, 0, \"Canceled\", \"2015-05-26\"], [\"Resort Hotel\", 0, 2, 2015, \"July\", 27, 3, 2, 2, 1, 0.0, 0, \"BB\", \"PRT\", \"Online TA\", \"TA/TO\", 0, 0, 0, \"A\", \"A\", 0, \"No Deposit\", 240.0, NaN, 0, \"Transient\", 122.0, 0, 0, \"Check-Out\", \"2015-07-07\"], [\"Resort Hotel\", 0, 72, 2015, \"July\", 27, 3, 2, 2, 2, 0.0, 0, \"BB\", \"DEU\", \"Offline TA/TO\", \"TA/TO\", 0, 0, 0, \"A\", \"A\", 0, \"No Deposit\", 105.0, NaN, 0, \"Transient\", 110.7, 1, 0, \"Check-Out\", \"2015-07-07\"], [\"Resort Hotel\", 0, 81, 2015, \"July\", 27, 3, 2, 6, 3, 0.0, 0, \"BB\", \"PRT\", \"Offline TA/TO\", \"TA/TO\", 0, 0, 0, \"D\", \"D\", 0, \"No Deposit\", 5.0, NaN, 0, \"Transient\", 85.86, 0, 0, \"Check-Out\", \"2015-07-11\"], [\"Resort Hotel\", 0, 99, 2015, \"July\", 27, 3, 2, 7, 2, 0.0, 0, \"BB\", \"FRA\", \"Offline TA/TO\", \"TA/TO\", 0, 0, 0, \"A\", \"A\", 0, \"No Deposit\", 40.0, NaN, 0, \"Contract\", 58.95, 0, 0, \"Check-Out\", \"2015-07-12\"], [\"Resort Hotel\", 1, 368, 2015, \"July\", 27, 3, 3, 7, 2, 0.0, 0, \"BB\", \"PRT\", \"Offline TA/TO\", \"TA/TO\", 0, 0, 0, \"A\", \"A\", 0, \"No Deposit\", 40.0, NaN, 0, \"Contract\", 55.68, 0, 0, \"Canceled\", \"2015-05-19\"], [\"Resort Hotel\", 0, 364, 2015, \"July\", 27, 3, 3, 7, 2, 0.0, 0, \"BB\", \"GBR\", \"Offline TA/TO\", \"TA/TO\", 0, 0, 0, \"A\", \"A\", 0, \"No Deposit\", 40.0, NaN, 0, \"Contract\", 55.68, 0, 0, \"Check-Out\", \"2015-07-13\"], [\"Resort Hotel\", 1, 81, 2015, \"July\", 27, 3, 3, 7, 2, 0.0, 0, \"HB\", \"PRT\", \"Direct\", \"Direct\", 0, 0, 0, \"A\", \"A\", 2, \"No Deposit\", 250.0, NaN, 0, \"Transient\", 124.0, 0, 1, \"Canceled\", \"2015-06-09\"], [\"Resort Hotel\", 0, 99, 2015, \"July\", 27, 3, 3, 7, 2, 0.0, 0, \"HB\", \"GBR\", \"Offline TA/TO\", \"TA/TO\", 0, 0, 0, \"E\", \"E\", 0, \"No Deposit\", 115.0, NaN, 0, \"Contract\", 111.15, 0, 0, \"Check-Out\", \"2015-07-13\"], [\"Resort Hotel\", 0, 324, 2015, \"July\", 27, 3, 4, 10, 2, 0.0, 0, \"HB\", \"GBR\", \"Offline TA/TO\", \"TA/TO\", 0, 0, 0, \"E\", \"E\", 0, \"No Deposit\", 40.0, NaN, 0, \"Contract\", 134.73, 0, 0, \"Check-Out\", \"2015-07-17\"], [\"Resort Hotel\", 0, 69, 2015, \"July\", 27, 3, 4, 10, 2, 0.0, 0, \"BB\", \"GBR\", \"Online TA\", \"TA/TO\", 0, 0, 0, \"F\", \"F\", 1, \"No Deposit\", 241.0, NaN, 0, \"Transient\", 92.45, 0, 1, \"Check-Out\", \"2015-07-17\"], [\"Resort Hotel\", 1, 79, 2015, \"July\", 27, 3, 6, 15, 2, 1.0, 0, \"BB\", \"PRT\", \"Offline TA/TO\", \"TA/TO\", 0, 0, 0, \"A\", \"A\", 0, \"No Deposit\", 242.0, NaN, 0, \"Transient\", 108.73, 0, 2, \"Canceled\", \"2015-04-15\"], [\"Resort Hotel\", 0, 12, 2015, \"July\", 27, 3, 0, 1, 2, 0.0, 0, \"BB\", \"GBR\", \"Online TA\", \"TA/TO\", 0, 0, 0, \"A\", \"C\", 0, \"No Deposit\", 240.0, NaN, 0, \"Transient\", 73.8, 0, 0, \"Check-Out\", \"2015-07-04\"], [\"Resort Hotel\", 0, 9, 2015, \"July\", 27, 3, 0, 1, 2, 0.0, 0, \"BB\", \"PRT\", \"Online TA\", \"TA/TO\", 0, 0, 0, \"A\", \"C\", 0, \"No Deposit\", 240.0, NaN, 0, \"Transient\", 98.0, 1, 2, \"Check-Out\", \"2015-07-04\"], [\"Resort Hotel\", 0, 1, 2015, \"July\", 27, 3, 0, 1, 2, 0.0, 0, \"BB\", \"ESP\", \"Online TA\", \"TA/TO\", 0, 0, 0, \"A\", \"C\", 0, \"No Deposit\", 240.0, NaN, 0, \"Transient\", 131.0, 0, 1, \"Check-Out\", \"2015-07-04\"], [\"Resort Hotel\", 0, 21, 2015, \"July\", 27, 3, 0, 1, 2, 0.0, 0, \"BB\", \"PRT\", \"Online TA\", \"TA/TO\", 0, 0, 0, \"E\", \"E\", 0, \"No Deposit\", 240.0, NaN, 0, \"Transient\", 123.0, 0, 0, \"Check-Out\", \"2015-07-04\"], [\"Resort Hotel\", 0, 9, 2015, \"July\", 27, 3, 0, 1, 2, 0.0, 0, \"BB\", \"USA\", \"Online TA\", \"TA/TO\", 0, 0, 0, \"C\", \"C\", 0, \"No Deposit\", 241.0, NaN, 0, \"Transient\", 94.71, 0, 0, \"Check-Out\", \"2015-07-04\"], [\"Resort Hotel\", 0, 109, 2015, \"July\", 27, 3, 0, 1, 2, 0.0, 0, \"BB\", \"BEL\", \"Online TA\", \"TA/TO\", 0, 0, 0, \"A\", \"A\", 0, \"No Deposit\", 240.0, NaN, 0, \"Transient\", 123.0, 0, 2, \"Check-Out\", \"2015-07-04\"], [\"Resort Hotel\", 1, 109, 2015, \"July\", 27, 3, 0, 2, 2, 0.0, 0, \"BB\", \"PRT\", \"Online TA\", \"TA/TO\", 0, 0, 0, \"A\", \"A\", 0, \"No Deposit\", 240.0, NaN, 0, \"Transient\", 123.0, 0, 1, \"Canceled\", \"2015-05-26\"], [\"Resort Hotel\", 1, 72, 2015, \"July\", 27, 3, 0, 2, 2, 0.0, 0, \"BB\", \"PRT\", \"Online TA\", \"TA/TO\", 0, 0, 0, \"A\", \"A\", 0, \"No Deposit\", 240.0, NaN, 0, \"Transient\", 73.8, 0, 1, \"Canceled\", \"2015-06-29\"], [\"Resort Hotel\", 1, 63, 2015, \"July\", 27, 3, 2, 5, 2, 0.0, 0, \"BB\", \"PRT\", \"Online TA\", \"TA/TO\", 0, 0, 0, \"F\", \"F\", 0, \"No Deposit\", 242.0, NaN, 0, \"Transient\", 117.0, 0, 1, \"Canceled\", \"2015-05-13\"], [\"Resort Hotel\", 0, 63, 2015, \"July\", 27, 3, 2, 5, 3, 0.0, 0, \"HB\", \"ESP\", \"Offline TA/TO\", \"TA/TO\", 0, 0, 0, \"E\", \"E\", 0, \"No Deposit\", 105.0, NaN, 0, \"Transient\", 196.54, 0, 1, \"Check-Out\", \"2015-07-10\"], [\"Resort Hotel\", 0, 101, 2015, \"July\", 27, 3, 2, 5, 2, 1.0, 0, \"BB\", \"PRT\", \"Online TA\", \"TA/TO\", 0, 0, 0, \"D\", \"D\", 0, \"No Deposit\", 240.0, NaN, 0, \"Transient\", 99.3, 1, 2, \"Check-Out\", \"2015-07-10\"], [\"Resort Hotel\", 0, 102, 2015, \"July\", 27, 3, 2, 5, 2, 0.0, 0, \"BB\", \"DEU\", \"Direct\", \"Direct\", 0, 0, 0, \"E\", \"E\", 0, \"No Deposit\", 250.0, NaN, 0, \"Transient\", 90.95, 0, 0, \"Check-Out\", \"2015-07-10\"], [\"Resort Hotel\", 0, 4, 2015, \"July\", 27, 4, 2, 1, 2, 0.0, 0, \"BB\", \"ESP\", \"Direct\", \"Direct\", 0, 0, 0, \"A\", \"C\", 0, \"No Deposit\", 250.0, NaN, 0, \"Transient\", 92.67, 0, 1, \"Check-Out\", \"2015-07-07\"], [\"Resort Hotel\", 0, 98, 2015, \"July\", 27, 4, 2, 1, 2, 0.0, 0, \"BB\", \"FRA\", \"Offline TA/TO\", \"TA/TO\", 0, 0, 0, \"D\", \"D\", 0, \"No Deposit\", 8.0, NaN, 0, \"Transient\", 71.55, 1, 0, \"Check-Out\", \"2015-07-07\"], [\"Resort Hotel\", 0, 92, 2015, \"July\", 27, 4, 2, 4, 1, 2.0, 0, \"BB\", \"FRA\", \"Offline TA/TO\", \"TA/TO\", 0, 0, 0, \"F\", \"F\", 0, \"No Deposit\", 241.0, NaN, 0, \"Transient\", 96.49, 0, 2, \"Check-Out\", \"2015-07-10\"], [\"Resort Hotel\", 0, 95, 2015, \"July\", 27, 4, 2, 4, 2, 0.0, 0, \"BB\", \"PRT\", \"Online TA\", \"TA/TO\", 0, 0, 0, \"A\", \"C\", 0, \"No Deposit\", 240.0, NaN, 0, \"Transient\", 85.8, 1, 2, \"Check-Out\", \"2015-07-10\"], [\"Resort Hotel\", 0, 102, 2015, \"July\", 27, 4, 2, 5, 2, 0.0, 0, \"BB\", \"PRT\", \"Online TA\", \"TA/TO\", 0, 0, 0, \"E\", \"E\", 0, \"No Deposit\", 240.0, NaN, 0, \"Transient\", 96.3, 0, 1, \"Check-Out\", \"2015-07-11\"], [\"Resort Hotel\", 1, 26, 2015, \"July\", 27, 4, 2, 5, 2, 2.0, 0, \"BB\", \"PRT\", \"Online TA\", \"TA/TO\", 0, 0, 0, \"H\", \"H\", 0, \"No Deposit\", 240.0, NaN, 0, \"Transient\", 163.0, 0, 0, \"Canceled\", \"2015-06-09\"], [\"Resort Hotel\", 1, 73, 2015, \"July\", 27, 4, 2, 5, 3, 0.0, 0, \"HB\", \"PRT\", \"Direct\", \"Direct\", 0, 0, 0, \"D\", \"D\", 0, \"No Deposit\", 250.0, NaN, 0, \"Transient\", 172.0, 0, 1, \"Canceled\", \"2015-05-20\"], [\"Resort Hotel\", 1, 102, 2015, \"July\", 27, 4, 2, 5, 2, 0.0, 0, \"BB\", \"PRT\", \"Online TA\", \"TA/TO\", 0, 0, 0, \"A\", \"A\", 0, \"No Deposit\", 240.0, NaN, 0, \"Transient\", 110.7, 0, 1, \"Canceled\", \"2015-04-22\"], [\"Resort Hotel\", 0, 115, 2015, \"July\", 27, 4, 2, 5, 2, 0.0, 0, \"BB\", \"PRT\", \"Offline TA/TO\", \"TA/TO\", 0, 0, 0, \"A\", \"A\", 0, \"No Deposit\", 134.0, NaN, 0, \"Transient\", 58.95, 0, 1, \"Check-Out\", \"2015-07-11\"], [\"Resort Hotel\", 0, 102, 2015, \"July\", 27, 4, 2, 5, 2, 0.0, 1, \"BB\", \"PRT\", \"Online TA\", \"TA/TO\", 0, 0, 0, \"A\", \"A\", 0, \"No Deposit\", 240.0, NaN, 0, \"Transient\", 73.8, 0, 2, \"Check-Out\", \"2015-07-11\"], [\"Resort Hotel\", 0, 86, 2015, \"July\", 27, 4, 2, 5, 2, 0.0, 0, \"BB\", \"CHE\", \"Online TA\", \"TA/TO\", 0, 0, 0, \"D\", \"D\", 0, \"No Deposit\", 240.0, NaN, 0, \"Transient\", 97.0, 0, 2, \"Check-Out\", \"2015-07-11\"], [\"Resort Hotel\", 0, 78, 2015, \"July\", 27, 4, 2, 5, 2, 0.0, 1, \"HB\", \"PRT\", \"Online TA\", \"TA/TO\", 0, 0, 0, \"E\", \"F\", 0, \"No Deposit\", 240.0, NaN, 0, \"Transient\", 139.0, 0, 2, \"Check-Out\", \"2015-07-11\"], [\"Resort Hotel\", 0, 52, 2015, \"July\", 27, 4, 2, 5, 2, 0.0, 0, \"BB\", \"GBR\", \"Online TA\", \"TA/TO\", 0, 0, 0, \"A\", \"A\", 0, \"No Deposit\", 147.0, NaN, 0, \"Transient\", 67.24, 0, 0, \"Check-Out\", \"2015-07-11\"], [\"Resort Hotel\", 0, 29, 2015, \"July\", 27, 4, 2, 6, 3, 0.0, 0, \"BB\", \"PRT\", \"Online TA\", \"TA/TO\", 0, 0, 0, \"E\", \"E\", 0, \"No Deposit\", 241.0, NaN, 0, \"Transient\", 116.5, 0, 1, \"Check-Out\", \"2015-07-12\"], [\"Resort Hotel\", 1, 101, 2015, \"July\", 27, 4, 2, 6, 2, 0.0, 0, \"BB\", \"PRT\", \"Online TA\", \"TA/TO\", 0, 0, 0, \"E\", \"E\", 0, \"No Deposit\", 240.0, NaN, 0, \"Transient\", 96.3, 0, 1, \"Canceled\", \"2015-05-12\"], [\"Resort Hotel\", 0, 109, 2015, \"July\", 27, 4, 2, 6, 2, 0.0, 0, \"BB\", \"PRT\", \"Online TA\", \"TA/TO\", 0, 0, 0, \"A\", \"A\", 0, \"No Deposit\", 240.0, NaN, 0, \"Transient\", 123.0, 0, 1, \"Check-Out\", \"2015-07-12\"], [\"Resort Hotel\", 0, 92, 2015, \"July\", 27, 4, 4, 6, 2, 0.0, 0, \"BB\", \"GBR\", \"Offline TA/TO\", \"TA/TO\", 0, 0, 0, \"D\", \"D\", 0, \"No Deposit\", 40.0, NaN, 0, \"Contract\", 71.55, 0, 1, \"Check-Out\", \"2015-07-14\"], [\"Resort Hotel\", 0, 92, 2015, \"July\", 27, 4, 4, 6, 2, 0.0, 0, \"BB\", \"PRT\", \"Offline TA/TO\", \"TA/TO\", 0, 0, 0, \"D\", \"D\", 0, \"No Deposit\", 40.0, NaN, 0, \"Contract\", 71.55, 0, 1, \"Check-Out\", \"2015-07-14\"], [\"Resort Hotel\", 0, 79, 2015, \"July\", 27, 4, 4, 6, 2, 1.0, 0, \"HB\", \"PRT\", \"Direct\", \"Direct\", 0, 0, 0, \"D\", \"D\", 1, \"No Deposit\", 250.0, NaN, 0, \"Transient\", 149.0, 0, 1, \"Check-Out\", \"2015-07-14\"], [\"Resort Hotel\", 0, 2, 2015, \"July\", 27, 4, 0, 1, 2, 2.0, 0, \"BB\", \"PRT\", \"Online TA\", \"TA/TO\", 0, 0, 0, \"H\", \"G\", 1, \"No Deposit\", 240.0, NaN, 0, \"Transient\", 163.0, 1, 0, \"Check-Out\", \"2015-07-05\"], [\"Resort Hotel\", 0, 30, 2015, \"July\", 27, 4, 0, 1, 2, 0.0, 0, \"BB\", \"PRT\", \"Offline TA/TO\", \"TA/TO\", 0, 0, 0, \"D\", \"C\", 0, \"No Deposit\", 8.0, NaN, 0, \"Contract\", 79.5, 0, 0, \"Check-Out\", \"2015-07-05\"], [\"Resort Hotel\", 1, 51, 2015, \"July\", 27, 4, 0, 1, 1, 0.0, 0, \"HB\", \"PRT\", \"Online TA\", \"TA/TO\", 0, 0, 0, \"A\", \"A\", 0, \"No Deposit\", 240.0, NaN, 0, \"Transient\", 105.0, 0, 0, \"Canceled\", \"2015-05-29\"], [\"Resort Hotel\", 1, 36, 2015, \"July\", 27, 4, 0, 1, 1, 0.0, 0, \"BB\", \"PRT\", \"Direct\", \"Direct\", 0, 0, 0, \"E\", \"G\", 1, \"No Deposit\", 250.0, NaN, 0, \"Transient\", 123.0, 0, 0, \"No-Show\", \"2015-07-04\"], [\"Resort Hotel\", 1, 73, 2015, \"July\", 27, 4, 0, 1, 2, 0.0, 0, \"BB\", \"PRT\", \"Online TA\", \"TA/TO\", 0, 0, 0, \"A\", \"A\", 0, \"No Deposit\", 240.0, NaN, 0, \"Transient\", 73.8, 0, 2, \"Canceled\", \"2015-05-13\"], [\"Resort Hotel\", 1, 33, 2015, \"July\", 27, 4, 0, 1, 2, 0.0, 0, \"BB\", \"PRT\", \"Online TA\", \"TA/TO\", 0, 0, 0, \"D\", \"D\", 0, \"No Deposit\", 240.0, NaN, 0, \"Transient\", 113.0, 0, 0, \"Canceled\", \"2015-06-16\"], [\"Resort Hotel\", 0, 32, 2015, \"July\", 27, 4, 0, 1, 4, 0.0, 0, \"FB\", \"PRT\", \"Complementary\", \"Direct\", 0, 0, 0, \"H\", \"H\", 2, \"No Deposit\", NaN, NaN, 0, \"Transient\", 0.0, 0, 1, \"Check-Out\", \"2015-07-05\"], [\"Resort Hotel\", 0, 8, 2015, \"July\", 27, 4, 0, 1, 2, 0.0, 0, \"BB\", \"ESP\", \"Online TA\", \"TA/TO\", 0, 0, 0, \"E\", \"E\", 0, \"No Deposit\", 240.0, NaN, 0, \"Transient\", 123.0, 0, 0, \"Check-Out\", \"2015-07-05\"], [\"Resort Hotel\", 0, 100, 2015, \"July\", 27, 4, 1, 1, 2, 0.0, 0, \"BB\", \"FRA\", \"Online TA\", \"TA/TO\", 0, 0, 0, \"A\", \"C\", 0, \"No Deposit\", 240.0, NaN, 0, \"Transient-Party\", 73.8, 1, 1, \"Check-Out\", \"2015-07-06\"], [\"City Hotel\", 0, 115, 2017, \"August\", 35, 28, 1, 3, 2, 0.0, 0, \"BB\", \"FRA\", \"Online TA\", \"TA/TO\", 0, 0, 0, \"D\", \"D\", 0, \"No Deposit\", 9.0, NaN, 0, \"Transient\", 155.0, 0, 1, \"Check-Out\", \"2017-09-01\"], [\"City Hotel\", 0, 213, 2017, \"August\", 35, 28, 1, 3, 1, 0.0, 0, \"HB\", \"PRT\", \"Groups\", \"TA/TO\", 0, 0, 0, \"A\", \"A\", 2, \"No Deposit\", 19.0, NaN, 0, \"Transient-Party\", 104.0, 0, 0, \"Check-Out\", \"2017-09-01\"], [\"City Hotel\", 0, 213, 2017, \"August\", 35, 28, 1, 3, 1, 0.0, 0, \"HB\", \"PRT\", \"Groups\", \"TA/TO\", 0, 0, 0, \"A\", \"A\", 1, \"No Deposit\", 19.0, NaN, 0, \"Transient-Party\", 104.0, 0, 0, \"Check-Out\", \"2017-09-01\"], [\"City Hotel\", 0, 213, 2017, \"August\", 35, 28, 1, 3, 1, 0.0, 0, \"HB\", \"PRT\", \"Groups\", \"TA/TO\", 0, 0, 0, \"A\", \"A\", 1, \"No Deposit\", 19.0, NaN, 0, \"Transient-Party\", 104.0, 0, 0, \"Check-Out\", \"2017-09-01\"], [\"City Hotel\", 0, 213, 2017, \"August\", 35, 28, 1, 3, 1, 0.0, 0, \"HB\", \"PRT\", \"Groups\", \"TA/TO\", 0, 0, 0, \"A\", \"A\", 1, \"No Deposit\", 19.0, NaN, 0, \"Transient-Party\", 104.0, 0, 0, \"Check-Out\", \"2017-09-01\"], [\"City Hotel\", 0, 213, 2017, \"August\", 35, 28, 1, 3, 1, 0.0, 0, \"HB\", \"PRT\", \"Groups\", \"TA/TO\", 0, 0, 0, \"A\", \"A\", 10, \"No Deposit\", 19.0, NaN, 0, \"Transient-Party\", 105.75, 0, 1, \"Check-Out\", \"2017-09-01\"], [\"City Hotel\", 0, 178, 2017, \"August\", 35, 29, 0, 3, 1, 0.0, 0, \"SC\", \"BEL\", \"Online TA\", \"TA/TO\", 0, 0, 0, \"A\", \"D\", 2, \"No Deposit\", 9.0, NaN, 0, \"Transient\", 121.5, 0, 1, \"Check-Out\", \"2017-09-01\"], [\"City Hotel\", 0, 0, 2017, \"August\", 35, 29, 0, 3, 2, 1.0, 0, \"BB\", \"ROU\", \"Online TA\", \"TA/TO\", 0, 0, 0, \"A\", \"D\", 1, \"No Deposit\", 9.0, NaN, 0, \"Transient\", 135.0, 0, 2, \"Check-Out\", \"2017-09-01\"], [\"City Hotel\", 0, 213, 2017, \"August\", 35, 28, 1, 3, 1, 0.0, 0, \"HB\", \"PRT\", \"Groups\", \"TA/TO\", 0, 0, 0, \"A\", \"A\", 1, \"No Deposit\", 19.0, NaN, 0, \"Transient-Party\", 104.0, 0, 0, \"Check-Out\", \"2017-09-01\"], [\"City Hotel\", 0, 22, 2017, \"August\", 35, 28, 1, 3, 2, 0.0, 0, \"BB\", \"GBR\", \"Direct\", \"Direct\", 0, 0, 0, \"D\", \"D\", 0, \"No Deposit\", 14.0, NaN, 0, \"Transient\", 160.0, 0, 0, \"Check-Out\", \"2017-09-01\"], [\"City Hotel\", 0, 213, 2017, \"August\", 35, 28, 1, 3, 1, 0.0, 0, \"HB\", \"PRT\", \"Groups\", \"TA/TO\", 0, 0, 0, \"A\", \"K\", 1, \"No Deposit\", 19.0, NaN, 0, \"Transient-Party\", 104.0, 0, 0, \"Check-Out\", \"2017-09-01\"], [\"City Hotel\", 0, 213, 2017, \"August\", 35, 28, 1, 3, 1, 0.0, 0, \"HB\", \"PRT\", \"Groups\", \"TA/TO\", 0, 0, 0, \"A\", \"K\", 2, \"No Deposit\", 19.0, NaN, 0, \"Transient-Party\", 104.0, 0, 0, \"Check-Out\", \"2017-09-01\"], [\"City Hotel\", 0, 213, 2017, \"August\", 35, 28, 1, 3, 1, 0.0, 0, \"HB\", \"PRT\", \"Groups\", \"TA/TO\", 0, 0, 0, \"A\", \"A\", 1, \"No Deposit\", 19.0, NaN, 0, \"Transient-Party\", 104.0, 0, 0, \"Check-Out\", \"2017-09-01\"], [\"City Hotel\", 0, 213, 2017, \"August\", 35, 28, 1, 3, 1, 0.0, 0, \"HB\", \"PRT\", \"Groups\", \"TA/TO\", 0, 0, 0, \"A\", \"A\", 1, \"No Deposit\", 19.0, NaN, 0, \"Transient-Party\", 104.0, 0, 0, \"Check-Out\", \"2017-09-01\"], [\"City Hotel\", 0, 213, 2017, \"August\", 35, 28, 1, 3, 1, 0.0, 0, \"HB\", \"PRT\", \"Groups\", \"TA/TO\", 0, 0, 0, \"A\", \"A\", 1, \"No Deposit\", 19.0, NaN, 0, \"Transient-Party\", 104.0, 0, 0, \"Check-Out\", \"2017-09-01\"], [\"City Hotel\", 0, 213, 2017, \"August\", 35, 28, 1, 3, 1, 0.0, 0, \"HB\", \"PRT\", \"Groups\", \"TA/TO\", 0, 0, 0, \"C\", \"C\", 1, \"No Deposit\", 19.0, NaN, 0, \"Transient-Party\", 104.0, 0, 1, \"Check-Out\", \"2017-09-01\"], [\"City Hotel\", 0, 198, 2017, \"August\", 35, 28, 1, 4, 2, 0.0, 0, \"BB\", \"LUX\", \"Online TA\", \"TA/TO\", 0, 0, 0, \"A\", \"A\", 0, \"No Deposit\", 9.0, NaN, 0, \"Transient\", 117.0, 0, 2, \"Check-Out\", \"2017-09-02\"], [\"City Hotel\", 0, 30, 2017, \"August\", 35, 30, 0, 3, 3, 0.0, 0, \"HB\", \"ITA\", \"Online TA\", \"TA/TO\", 0, 0, 0, \"D\", \"D\", 0, \"No Deposit\", 7.0, NaN, 0, \"Transient\", 195.47, 0, 3, \"Check-Out\", \"2017-09-02\"], [\"City Hotel\", 0, 158, 2017, \"August\", 35, 31, 0, 2, 2, 0.0, 0, \"BB\", \"NLD\", \"Online TA\", \"TA/TO\", 0, 0, 0, \"D\", \"D\", 2, \"No Deposit\", 83.0, NaN, 0, \"Transient\", 126.0, 1, 0, \"Check-Out\", \"2017-09-02\"], [\"City Hotel\", 0, 198, 2017, \"August\", 35, 29, 0, 4, 2, 0.0, 0, \"HB\", \"ITA\", \"Online TA\", \"TA/TO\", 0, 0, 0, \"A\", \"A\", 0, \"No Deposit\", 9.0, NaN, 0, \"Transient\", 160.2, 0, 0, \"Check-Out\", \"2017-09-02\"], [\"City Hotel\", 0, 115, 2017, \"August\", 35, 30, 0, 3, 2, 0.0, 0, \"SC\", \"SWE\", \"Online TA\", \"TA/TO\", 0, 0, 0, \"A\", \"A\", 0, \"No Deposit\", 7.0, NaN, 0, \"Transient\", 100.0, 0, 2, \"Check-Out\", \"2017-09-02\"], [\"City Hotel\", 0, 141, 2017, \"August\", 35, 29, 0, 4, 2, 0.0, 0, \"BB\", \"JPN\", \"Direct\", \"Direct\", 0, 0, 0, \"A\", \"A\", 4, \"No Deposit\", 14.0, NaN, 0, \"Transient\", 138.75, 0, 1, \"Check-Out\", \"2017-09-02\"], [\"City Hotel\", 0, 135, 2017, \"August\", 35, 27, 2, 4, 2, 0.0, 0, \"BB\", \"SWE\", \"Online TA\", \"TA/TO\", 0, 0, 0, \"D\", \"D\", 2, \"No Deposit\", 9.0, NaN, 0, \"Transient\", 157.17, 0, 1, \"Check-Out\", \"2017-09-02\"], [\"City Hotel\", 0, 177, 2017, \"August\", 35, 27, 2, 4, 2, 0.0, 0, \"HB\", \"FRA\", \"Online TA\", \"TA/TO\", 0, 0, 0, \"D\", \"D\", 0, \"No Deposit\", 9.0, NaN, 0, \"Transient\", 175.95, 0, 1, \"Check-Out\", \"2017-09-02\"], [\"City Hotel\", 0, 167, 2017, \"August\", 35, 27, 2, 4, 2, 1.0, 0, \"BB\", \"AUT\", \"Online TA\", \"TA/TO\", 0, 0, 0, \"D\", \"D\", 1, \"No Deposit\", 9.0, NaN, 0, \"Transient\", 177.75, 0, 0, \"Check-Out\", \"2017-09-02\"], [\"City Hotel\", 0, 44, 2017, \"August\", 35, 30, 0, 3, 3, 0.0, 0, \"BB\", \"FRA\", \"Online TA\", \"TA/TO\", 0, 0, 0, \"D\", \"D\", 0, \"No Deposit\", 9.0, NaN, 0, \"Transient\", 206.33, 0, 1, \"Check-Out\", \"2017-09-02\"], [\"City Hotel\", 0, 25, 2017, \"August\", 35, 30, 0, 3, 3, 0.0, 0, \"BB\", \"ITA\", \"Online TA\", \"TA/TO\", 0, 0, 0, \"E\", \"F\", 1, \"No Deposit\", 9.0, NaN, 0, \"Transient\", 236.33, 0, 3, \"Check-Out\", \"2017-09-02\"], [\"City Hotel\", 0, 218, 2017, \"August\", 34, 26, 2, 5, 2, 0.0, 0, \"HB\", \"GBR\", \"Online TA\", \"TA/TO\", 0, 0, 0, \"A\", \"A\", 1, \"No Deposit\", 7.0, NaN, 0, \"Transient\", 111.92, 0, 4, \"Check-Out\", \"2017-09-02\"], [\"City Hotel\", 0, 218, 2017, \"August\", 34, 26, 2, 5, 1, 0.0, 0, \"HB\", \"GBR\", \"Online TA\", \"TA/TO\", 0, 0, 0, \"A\", \"A\", 0, \"No Deposit\", 7.0, NaN, 0, \"Transient\", 105.34, 0, 4, \"Check-Out\", \"2017-09-02\"], [\"City Hotel\", 0, 75, 2017, \"August\", 34, 23, 2, 8, 2, 0.0, 0, \"BB\", \"BEL\", \"Offline TA/TO\", \"TA/TO\", 0, 0, 0, \"A\", \"A\", 0, \"No Deposit\", 394.0, NaN, 0, \"Transient\", 81.0, 0, 0, \"Check-Out\", \"2017-09-02\"], [\"City Hotel\", 0, 243, 2017, \"August\", 35, 30, 0, 3, 2, 2.0, 0, \"BB\", \"DEU\", \"Online TA\", \"TA/TO\", 0, 0, 0, \"F\", \"F\", 0, \"No Deposit\", 9.0, NaN, 0, \"Transient\", 189.0, 0, 3, \"Check-Out\", \"2017-09-02\"], [\"City Hotel\", 0, 243, 2017, \"August\", 35, 30, 0, 3, 2, 0.0, 0, \"BB\", \"DEU\", \"Online TA\", \"TA/TO\", 0, 0, 0, \"A\", \"A\", 0, \"No Deposit\", 9.0, NaN, 0, \"Transient\", 117.0, 0, 1, \"Check-Out\", \"2017-09-02\"], [\"City Hotel\", 0, 199, 2017, \"August\", 35, 29, 0, 5, 2, 0.0, 0, \"BB\", \"DEU\", \"Online TA\", \"TA/TO\", 0, 0, 0, \"D\", \"D\", 2, \"No Deposit\", 9.0, NaN, 0, \"Transient\", 126.0, 0, 0, \"Check-Out\", \"2017-09-03\"], [\"City Hotel\", 0, 303, 2017, \"August\", 35, 29, 0, 4, 1, 0.0, 0, \"BB\", \"JPN\", \"Online TA\", \"TA/TO\", 0, 0, 0, \"A\", \"A\", 0, \"No Deposit\", 9.0, NaN, 0, \"Transient\", 102.38, 0, 2, \"Check-Out\", \"2017-09-02\"], [\"City Hotel\", 0, 332, 2017, \"August\", 35, 31, 0, 2, 2, 0.0, 0, \"BB\", \"GBR\", \"Online TA\", \"TA/TO\", 0, 0, 0, \"D\", \"F\", 4, \"No Deposit\", 9.0, NaN, 0, \"Transient\", 170.8, 0, 2, \"Check-Out\", \"2017-09-02\"], [\"City Hotel\", 0, 169, 2017, \"August\", 35, 30, 0, 3, 2, 0.0, 0, \"BB\", \"BEL\", \"Offline TA/TO\", \"TA/TO\", 0, 0, 0, \"A\", \"A\", 0, \"No Deposit\", 28.0, NaN, 0, \"Transient\", 83.1, 0, 0, \"Check-Out\", \"2017-09-02\"], [\"City Hotel\", 0, 26, 2017, \"August\", 35, 29, 0, 4, 3, 0.0, 0, \"BB\", \"GBR\", \"Online TA\", \"TA/TO\", 0, 0, 0, \"D\", \"D\", 0, \"No Deposit\", 9.0, NaN, 0, \"Transient\", 207.25, 0, 0, \"Check-Out\", \"2017-09-02\"], [\"City Hotel\", 0, 43, 2017, \"August\", 35, 29, 0, 4, 2, 0.0, 0, \"SC\", \"GBR\", \"Online TA\", \"TA/TO\", 0, 0, 0, \"A\", \"A\", 0, \"No Deposit\", 9.0, NaN, 0, \"Transient\", 137.25, 0, 1, \"Check-Out\", \"2017-09-02\"], [\"City Hotel\", 0, 130, 2017, \"August\", 35, 28, 1, 4, 2, 0.0, 0, \"BB\", \"DEU\", \"Online TA\", \"TA/TO\", 0, 0, 0, \"E\", \"E\", 0, \"No Deposit\", 9.0, NaN, 0, \"Transient\", 188.0, 0, 0, \"Check-Out\", \"2017-09-02\"], [\"City Hotel\", 0, 217, 2017, \"August\", 35, 28, 1, 4, 2, 0.0, 0, \"BB\", \"CN\", \"Direct\", \"Direct\", 0, 0, 0, \"A\", \"A\", 0, \"No Deposit\", 14.0, NaN, 0, \"Transient\", 99.0, 0, 0, \"Check-Out\", \"2017-09-02\"], [\"City Hotel\", 0, 198, 2017, \"August\", 35, 31, 0, 2, 2, 0.0, 0, \"SC\", \"GBR\", \"Online TA\", \"TA/TO\", 0, 0, 0, \"A\", \"A\", 0, \"No Deposit\", 9.0, NaN, 0, \"Transient\", 99.0, 0, 0, \"Check-Out\", \"2017-09-02\"], [\"City Hotel\", 0, 4, 2017, \"August\", 35, 30, 0, 3, 1, 0.0, 0, \"BB\", \"JPN\", \"Direct\", \"Direct\", 0, 0, 0, \"D\", \"D\", 1, \"No Deposit\", 14.0, NaN, 0, \"Transient\", 140.7, 0, 0, \"Check-Out\", \"2017-09-02\"], [\"City Hotel\", 0, 66, 2017, \"August\", 35, 30, 0, 3, 1, 0.0, 0, \"BB\", \"CN\", \"Direct\", \"Direct\", 0, 0, 0, \"D\", \"D\", 0, \"No Deposit\", 14.0, NaN, 0, \"Transient\", 141.9, 0, 0, \"Check-Out\", \"2017-09-02\"], [\"City Hotel\", 0, 197, 2017, \"August\", 35, 29, 0, 4, 2, 0.0, 0, \"BB\", \"DEU\", \"Online TA\", \"TA/TO\", 0, 0, 0, \"A\", \"A\", 0, \"No Deposit\", 9.0, NaN, 0, \"Transient\", 117.0, 0, 0, \"Check-Out\", \"2017-09-02\"], [\"City Hotel\", 0, 116, 2017, \"August\", 35, 29, 0, 5, 1, 0.0, 0, \"SC\", \"JPN\", \"Online TA\", \"TA/TO\", 0, 0, 0, \"A\", \"A\", 0, \"No Deposit\", 7.0, NaN, 0, \"Transient\", 92.0, 0, 1, \"Check-Out\", \"2017-09-03\"], [\"City Hotel\", 0, 138, 2017, \"August\", 35, 29, 0, 5, 1, 0.0, 0, \"BB\", \"JPN\", \"Direct\", \"Direct\", 0, 0, 0, \"A\", \"A\", 0, \"No Deposit\", 14.0, NaN, 0, \"Transient\", 117.9, 0, 0, \"Check-Out\", \"2017-09-03\"], [\"City Hotel\", 0, 199, 2017, \"August\", 35, 29, 0, 5, 1, 0.0, 0, \"BB\", \"DEU\", \"Online TA\", \"TA/TO\", 0, 0, 0, \"A\", \"A\", 0, \"No Deposit\", 9.0, NaN, 0, \"Transient\", 99.0, 0, 2, \"Check-Out\", \"2017-09-03\"], [\"City Hotel\", 0, 199, 2017, \"August\", 35, 29, 0, 5, 1, 0.0, 0, \"SC\", \"DEU\", \"Online TA\", \"TA/TO\", 0, 0, 0, \"A\", \"A\", 0, \"No Deposit\", 9.0, NaN, 0, \"Transient\", 99.0, 0, 2, \"Check-Out\", \"2017-09-03\"], [\"City Hotel\", 0, 145, 2017, \"August\", 35, 29, 0, 5, 1, 0.0, 0, \"SC\", \"JPN\", \"Online TA\", \"TA/TO\", 0, 0, 0, \"A\", \"A\", 0, \"No Deposit\", 7.0, NaN, 0, \"Transient\", 84.51, 0, 1, \"Check-Out\", \"2017-09-03\"], [\"City Hotel\", 0, 4, 2017, \"August\", 35, 31, 0, 3, 2, 0.0, 0, \"SC\", \"FRA\", \"Online TA\", \"TA/TO\", 0, 0, 0, \"A\", \"A\", 0, \"No Deposit\", 9.0, NaN, 0, \"Transient\", 132.67, 0, 1, \"Check-Out\", \"2017-09-03\"], [\"City Hotel\", 0, 211, 2017, \"August\", 35, 31, 0, 3, 3, 0.0, 0, \"BB\", \"DNK\", \"Online TA\", \"TA/TO\", 0, 0, 0, \"D\", \"D\", 0, \"No Deposit\", 9.0, NaN, 0, \"Transient\", 162.0, 0, 1, \"Check-Out\", \"2017-09-03\"], [\"City Hotel\", 0, 230, 2017, \"August\", 35, 31, 0, 3, 2, 0.0, 0, \"BB\", \"GBR\", \"Offline TA/TO\", \"TA/TO\", 0, 0, 0, \"E\", \"E\", 0, \"No Deposit\", 28.0, NaN, 0, \"Transient\", 109.5, 0, 0, \"Check-Out\", \"2017-09-03\"], [\"City Hotel\", 0, 230, 2017, \"August\", 35, 31, 0, 3, 2, 0.0, 0, \"BB\", \"GBR\", \"Offline TA/TO\", \"TA/TO\", 0, 0, 0, \"E\", \"E\", 0, \"No Deposit\", 28.0, NaN, 0, \"Transient\", 109.5, 0, 0, \"Check-Out\", \"2017-09-03\"], [\"City Hotel\", 0, 1, 2017, \"August\", 35, 31, 0, 3, 2, 0.0, 0, \"BB\", \"GBR\", \"Offline TA/TO\", \"TA/TO\", 0, 0, 0, \"E\", \"E\", 0, \"No Deposit\", 28.0, NaN, 0, \"Transient\", 109.5, 0, 1, \"Check-Out\", \"2017-09-03\"], [\"City Hotel\", 0, 188, 2017, \"August\", 35, 30, 0, 4, 3, 0.0, 0, \"BB\", \"PRT\", \"Offline TA/TO\", \"TA/TO\", 0, 0, 0, \"D\", \"D\", 0, \"No Deposit\", 15.0, NaN, 0, \"Transient\", 129.6, 0, 0, \"Check-Out\", \"2017-09-03\"], [\"City Hotel\", 0, 160, 2017, \"August\", 35, 29, 0, 5, 2, 1.0, 0, \"BB\", \"GBR\", \"Online TA\", \"TA/TO\", 0, 0, 0, \"A\", \"A\", 0, \"No Deposit\", 9.0, NaN, 0, \"Transient\", 153.9, 0, 0, \"Check-Out\", \"2017-09-03\"], [\"City Hotel\", 0, 45, 2017, \"August\", 35, 28, 1, 5, 2, 2.0, 0, \"BB\", \"GBR\", \"Online TA\", \"TA/TO\", 0, 0, 0, \"F\", \"F\", 1, \"No Deposit\", 7.0, NaN, 0, \"Transient\", 194.13, 0, 1, \"Check-Out\", \"2017-09-03\"], [\"City Hotel\", 0, 140, 2017, \"August\", 35, 29, 0, 5, 2, 0.0, 0, \"BB\", \"JPN\", \"Direct\", \"Direct\", 0, 0, 0, \"D\", \"D\", 0, \"No Deposit\", 14.0, NaN, 0, \"Transient\", 156.0, 0, 1, \"Check-Out\", \"2017-09-03\"], [\"City Hotel\", 0, 181, 2017, \"August\", 35, 30, 0, 4, 2, 0.0, 0, \"SC\", \"JPN\", \"Online TA\", \"TA/TO\", 0, 0, 0, \"A\", \"A\", 0, \"No Deposit\", 9.0, NaN, 0, \"Transient\", 119.25, 0, 2, \"Check-Out\", \"2017-09-03\"], [\"City Hotel\", 0, 142, 2017, \"August\", 35, 31, 0, 3, 2, 0.0, 0, \"BB\", \"DEU\", \"Online TA\", \"TA/TO\", 0, 0, 0, \"A\", \"A\", 0, \"No Deposit\", 85.0, NaN, 0, \"Transient\", 86.1, 0, 0, \"Check-Out\", \"2017-09-03\"], [\"City Hotel\", 0, 136, 2017, \"August\", 35, 29, 0, 5, 1, 0.0, 0, \"SC\", \"JPN\", \"Online TA\", \"TA/TO\", 0, 0, 0, \"A\", \"A\", 0, \"No Deposit\", 9.0, NaN, 0, \"Transient\", 131.0, 0, 2, \"Check-Out\", \"2017-09-03\"], [\"City Hotel\", 0, 8, 2017, \"August\", 35, 31, 0, 3, 2, 0.0, 0, \"BB\", \"ITA\", \"Direct\", \"Direct\", 0, 0, 0, \"A\", \"A\", 0, \"No Deposit\", 14.0, NaN, 0, \"Transient\", 119.4, 0, 0, \"Check-Out\", \"2017-09-03\"], [\"City Hotel\", 0, 147, 2017, \"August\", 35, 28, 1, 5, 2, 0.0, 0, \"BB\", \"USA\", \"Direct\", \"Direct\", 0, 0, 0, \"A\", \"A\", 0, \"No Deposit\", 14.0, NaN, 0, \"Transient\", 117.0, 0, 1, \"Check-Out\", \"2017-09-03\"], [\"City Hotel\", 0, 186, 2017, \"August\", 35, 31, 0, 3, 2, 0.0, 0, \"BB\", \"DEU\", \"Online TA\", \"TA/TO\", 0, 0, 0, \"D\", \"D\", 0, \"No Deposit\", 9.0, NaN, 0, \"Transient\", 126.0, 0, 2, \"Check-Out\", \"2017-09-03\"], [\"City Hotel\", 0, 186, 2017, \"August\", 35, 31, 0, 3, 2, 0.0, 0, \"BB\", \"DEU\", \"Online TA\", \"TA/TO\", 0, 0, 0, \"D\", \"D\", 0, \"No Deposit\", 9.0, NaN, 0, \"Transient\", 126.0, 0, 2, \"Check-Out\", \"2017-09-03\"], [\"City Hotel\", 0, 104, 2017, \"August\", 35, 31, 0, 3, 1, 0.0, 0, \"BB\", \"JPN\", \"Online TA\", \"TA/TO\", 0, 0, 0, \"A\", \"A\", 0, \"No Deposit\", 9.0, NaN, 0, \"Transient\", 129.33, 0, 1, \"Check-Out\", \"2017-09-03\"], [\"City Hotel\", 0, 30, 2017, \"August\", 35, 31, 0, 3, 2, 0.0, 0, \"BB\", \"DEU\", \"Direct\", \"Direct\", 0, 0, 0, \"A\", \"A\", 0, \"No Deposit\", 14.0, NaN, 0, \"Transient\", 151.67, 1, 0, \"Check-Out\", \"2017-09-03\"], [\"City Hotel\", 0, 177, 2017, \"August\", 35, 29, 0, 5, 2, 0.0, 0, \"BB\", \"BEL\", \"Online TA\", \"TA/TO\", 0, 0, 0, \"A\", \"A\", 0, \"No Deposit\", 9.0, NaN, 0, \"Transient\", 135.9, 0, 2, \"Check-Out\", \"2017-09-03\"], [\"City Hotel\", 0, 104, 2017, \"August\", 35, 31, 0, 3, 1, 0.0, 0, \"BB\", \"JPN\", \"Online TA\", \"TA/TO\", 0, 0, 0, \"A\", \"A\", 0, \"No Deposit\", 9.0, NaN, 0, \"Transient\", 129.33, 0, 0, \"Check-Out\", \"2017-09-03\"], [\"City Hotel\", 0, 27, 2017, \"August\", 35, 31, 0, 3, 2, 0.0, 0, \"BB\", \"DEU\", \"Online TA\", \"TA/TO\", 0, 0, 0, \"A\", \"A\", 0, \"No Deposit\", 9.0, NaN, 0, \"Transient\", 152.67, 0, 1, \"Check-Out\", \"2017-09-03\"], [\"City Hotel\", 0, 231, 2017, \"August\", 35, 28, 1, 5, 2, 0.0, 0, \"BB\", \"DEU\", \"Online TA\", \"TA/TO\", 0, 0, 0, \"D\", \"D\", 2, \"No Deposit\", 9.0, NaN, 0, \"Transient\", 134.58, 0, 0, \"Check-Out\", \"2017-09-03\"], [\"City Hotel\", 0, 325, 2017, \"August\", 35, 30, 0, 4, 2, 0.0, 0, \"BB\", \"GBR\", \"Online TA\", \"TA/TO\", 0, 0, 0, \"D\", \"D\", 0, \"No Deposit\", 9.0, NaN, 0, \"Transient\", 129.18, 0, 4, \"Check-Out\", \"2017-09-03\"], [\"City Hotel\", 0, 63, 2017, \"August\", 35, 31, 0, 3, 3, 0.0, 0, \"BB\", \"SWE\", \"Online TA\", \"TA/TO\", 0, 0, 0, \"D\", \"D\", 0, \"No Deposit\", 9.0, NaN, 0, \"Transient-Party\", 195.33, 0, 2, \"Check-Out\", \"2017-09-03\"], [\"City Hotel\", 0, 103, 2017, \"August\", 35, 29, 0, 5, 1, 0.0, 0, \"BB\", \"CHN\", \"Online TA\", \"TA/TO\", 0, 0, 0, \"D\", \"D\", 1, \"No Deposit\", 9.0, NaN, 0, \"Transient\", 153.6, 0, 0, \"Check-Out\", \"2017-09-03\"], [\"City Hotel\", 0, 107, 2017, \"August\", 35, 30, 0, 4, 2, 0.0, 0, \"BB\", \"DEU\", \"Direct\", \"Direct\", 0, 0, 0, \"D\", \"D\", 0, \"No Deposit\", 14.0, NaN, 0, \"Transient\", 146.4, 0, 0, \"Check-Out\", \"2017-09-03\"], [\"City Hotel\", 0, 137, 2017, \"August\", 35, 29, 0, 5, 1, 0.0, 0, \"SC\", \"JPN\", \"Online TA\", \"TA/TO\", 0, 0, 0, \"A\", \"A\", 0, \"No Deposit\", 7.0, NaN, 0, \"Transient\", 96.8, 0, 1, \"Check-Out\", \"2017-09-03\"], [\"City Hotel\", 0, 110, 2017, \"August\", 35, 29, 0, 5, 3, 0.0, 0, \"HB\", \"ITA\", \"Direct\", \"Direct\", 0, 0, 0, \"D\", \"D\", 1, \"No Deposit\", 14.0, NaN, 0, \"Transient\", 229.0, 0, 1, \"Check-Out\", \"2017-09-03\"], [\"City Hotel\", 0, 110, 2017, \"August\", 35, 29, 0, 5, 2, 0.0, 0, \"HB\", \"PRT\", \"Direct\", \"Direct\", 0, 0, 0, \"D\", \"D\", 1, \"No Deposit\", 14.0, NaN, 0, \"Transient\", 171.0, 0, 2, \"Check-Out\", \"2017-09-03\"], [\"City Hotel\", 0, 181, 2017, \"August\", 35, 29, 0, 5, 1, 0.0, 0, \"BB\", \"DNK\", \"Online TA\", \"TA/TO\", 0, 0, 0, \"A\", \"A\", 0, \"No Deposit\", 9.0, NaN, 0, \"Transient\", 126.9, 0, 2, \"Check-Out\", \"2017-09-03\"], [\"City Hotel\", 0, 63, 2017, \"August\", 35, 31, 0, 3, 3, 0.0, 0, \"BB\", \"SWE\", \"Online TA\", \"TA/TO\", 0, 0, 0, \"D\", \"D\", 0, \"No Deposit\", 9.0, NaN, 0, \"Transient-Party\", 195.33, 0, 2, \"Check-Out\", \"2017-09-03\"], [\"City Hotel\", 0, 149, 2017, \"August\", 35, 30, 0, 4, 2, 0.0, 0, \"BB\", \"ESP\", \"Offline TA/TO\", \"TA/TO\", 0, 0, 0, \"A\", \"A\", 0, \"No Deposit\", 28.0, NaN, 0, \"Transient\", 84.6, 0, 0, \"Check-Out\", \"2017-09-03\"], [\"City Hotel\", 0, 31, 2017, \"August\", 35, 31, 0, 3, 2, 0.0, 0, \"BB\", \"LUX\", \"Online TA\", \"TA/TO\", 0, 0, 0, \"A\", \"A\", 0, \"No Deposit\", 9.0, NaN, 0, \"Transient\", 152.67, 0, 1, \"Check-Out\", \"2017-09-03\"], [\"City Hotel\", 0, 194, 2017, \"August\", 35, 31, 0, 3, 2, 0.0, 0, \"SC\", \"ZAF\", \"Online TA\", \"TA/TO\", 0, 0, 0, \"A\", \"A\", 0, \"No Deposit\", 9.0, NaN, 0, \"Transient\", 99.0, 0, 0, \"Check-Out\", \"2017-09-03\"], [\"City Hotel\", 0, 45, 2017, \"August\", 35, 27, 2, 5, 2, 0.0, 0, \"HB\", \"ESP\", \"Online TA\", \"TA/TO\", 0, 0, 0, \"A\", \"A\", 0, \"No Deposit\", 9.0, NaN, 0, \"Transient\", 183.86, 0, 2, \"Check-Out\", \"2017-09-03\"], [\"City Hotel\", 0, 63, 2017, \"August\", 35, 31, 0, 3, 3, 0.0, 0, \"BB\", \"SWE\", \"Online TA\", \"TA/TO\", 0, 0, 0, \"D\", \"D\", 0, \"No Deposit\", 9.0, NaN, 0, \"Transient-Party\", 195.33, 0, 2, \"Check-Out\", \"2017-09-03\"], [\"City Hotel\", 0, 63, 2017, \"August\", 35, 31, 0, 3, 3, 0.0, 0, \"BB\", \"SWE\", \"Online TA\", \"TA/TO\", 0, 0, 0, \"D\", \"D\", 0, \"No Deposit\", 9.0, NaN, 0, \"Transient-Party\", 195.33, 0, 2, \"Check-Out\", \"2017-09-03\"], [\"City Hotel\", 0, 186, 2017, \"August\", 35, 31, 0, 3, 2, 0.0, 0, \"BB\", \"DEU\", \"Online TA\", \"TA/TO\", 0, 0, 0, \"D\", \"D\", 0, \"No Deposit\", 9.0, NaN, 0, \"Transient\", 126.0, 0, 2, \"Check-Out\", \"2017-09-03\"], [\"City Hotel\", 0, 286, 2017, \"August\", 35, 30, 0, 4, 2, 0.0, 0, \"BB\", \"DEU\", \"Online TA\", \"TA/TO\", 0, 0, 0, \"A\", \"A\", 0, \"No Deposit\", 9.0, NaN, 0, \"Transient\", 112.05, 0, 3, \"Check-Out\", \"2017-09-03\"], [\"City Hotel\", 0, 72, 2017, \"August\", 35, 31, 0, 3, 2, 0.0, 0, \"BB\", \"POL\", \"Direct\", \"Direct\", 0, 0, 0, \"D\", \"D\", 0, \"No Deposit\", 14.0, NaN, 0, \"Transient\", 134.82, 0, 1, \"Check-Out\", \"2017-09-03\"], [\"City Hotel\", 0, 63, 2017, \"August\", 35, 31, 0, 3, 3, 0.0, 0, \"BB\", \"SWE\", \"Online TA\", \"TA/TO\", 0, 0, 0, \"D\", \"D\", 0, \"No Deposit\", 9.0, NaN, 0, \"Transient-Party\", 195.33, 0, 2, \"Check-Out\", \"2017-09-03\"], [\"City Hotel\", 0, 63, 2017, \"August\", 35, 31, 0, 3, 3, 0.0, 0, \"BB\", \"SWE\", \"Online TA\", \"TA/TO\", 0, 0, 0, \"D\", \"D\", 0, \"No Deposit\", 9.0, NaN, 0, \"Transient-Party\", 195.33, 0, 2, \"Check-Out\", \"2017-09-03\"], [\"City Hotel\", 0, 63, 2017, \"August\", 35, 31, 0, 3, 3, 0.0, 0, \"BB\", \"SWE\", \"Online TA\", \"TA/TO\", 0, 0, 0, \"D\", \"D\", 0, \"No Deposit\", 9.0, NaN, 0, \"Transient-Party\", 195.33, 0, 2, \"Check-Out\", \"2017-09-03\"], [\"City Hotel\", 0, 111, 2017, \"August\", 35, 29, 1, 5, 1, 0.0, 0, \"BB\", \"JPN\", \"Direct\", \"Direct\", 0, 0, 0, \"D\", \"D\", 1, \"No Deposit\", 14.0, NaN, 0, \"Transient\", 135.0, 0, 2, \"Check-Out\", \"2017-09-04\"], [\"City Hotel\", 0, 111, 2017, \"August\", 35, 29, 1, 5, 2, 0.0, 0, \"BB\", \"DEU\", \"Direct\", \"Direct\", 0, 0, 0, \"D\", \"D\", 3, \"No Deposit\", 14.0, NaN, 0, \"Transient\", 135.0, 0, 1, \"Check-Out\", \"2017-09-04\"], [\"City Hotel\", 0, 47, 2017, \"August\", 35, 31, 1, 3, 1, 0.0, 0, \"SC\", \"PRT\", \"Online TA\", \"TA/TO\", 0, 0, 0, \"A\", \"D\", 0, \"No Deposit\", 423.0, NaN, 0, \"Transient\", 91.02, 0, 0, \"Check-Out\", \"2017-09-04\"], [\"City Hotel\", 0, 135, 2017, \"August\", 35, 30, 1, 4, 2, 0.0, 0, \"BB\", \"USA\", \"Direct\", \"Direct\", 0, 0, 0, \"D\", \"D\", 0, \"No Deposit\", 14.0, NaN, 0, \"Transient\", 143.1, 0, 1, \"Check-Out\", \"2017-09-04\"], [\"City Hotel\", 0, 63, 2017, \"August\", 35, 31, 1, 3, 2, 0.0, 0, \"SC\", \"BRA\", \"Online TA\", \"TA/TO\", 0, 0, 0, \"A\", \"A\", 1, \"No Deposit\", 9.0, NaN, 0, \"Transient\", 133.5, 0, 1, \"Check-Out\", \"2017-09-04\"], [\"City Hotel\", 0, 195, 2017, \"August\", 35, 29, 1, 5, 2, 0.0, 0, \"BB\", \"JPN\", \"Online TA\", \"TA/TO\", 0, 0, 0, \"A\", \"A\", 0, \"No Deposit\", 9.0, NaN, 0, \"Transient\", 117.0, 0, 1, \"Check-Out\", \"2017-09-04\"], [\"City Hotel\", 0, 100, 2017, \"August\", 35, 31, 1, 3, 2, 0.0, 0, \"BB\", \"DEU\", \"Offline TA/TO\", \"TA/TO\", 0, 0, 0, \"D\", \"D\", 0, \"No Deposit\", 16.0, NaN, 0, \"Transient\", 95.85, 0, 0, \"Check-Out\", \"2017-09-04\"], [\"City Hotel\", 0, 198, 2017, \"August\", 35, 29, 1, 5, 2, 0.0, 0, \"BB\", \"ITA\", \"Online TA\", \"TA/TO\", 0, 0, 0, \"A\", \"A\", 2, \"No Deposit\", 9.0, NaN, 0, \"Transient\", 119.17, 0, 2, \"Check-Out\", \"2017-09-04\"], [\"City Hotel\", 0, 212, 2017, \"August\", 35, 28, 2, 5, 2, 0.0, 0, \"BB\", \"CHN\", \"Online TA\", \"TA/TO\", 0, 0, 0, \"D\", \"D\", 0, \"No Deposit\", 7.0, NaN, 0, \"Transient\", 92.17, 0, 1, \"Check-Out\", \"2017-09-04\"], [\"City Hotel\", 0, 212, 2017, \"August\", 35, 28, 2, 5, 2, 0.0, 0, \"BB\", \"ITA\", \"Online TA\", \"TA/TO\", 0, 0, 0, \"D\", \"D\", 0, \"No Deposit\", 7.0, NaN, 0, \"Transient\", 92.17, 0, 2, \"Check-Out\", \"2017-09-04\"], [\"City Hotel\", 0, 54, 2017, \"August\", 35, 27, 3, 5, 1, 0.0, 0, \"BB\", \"JPN\", \"Direct\", \"Direct\", 0, 0, 0, \"G\", \"G\", 0, \"No Deposit\", 14.0, NaN, 0, \"Transient\", 266.75, 0, 1, \"Check-Out\", \"2017-09-04\"], [\"City Hotel\", 0, 210, 2017, \"August\", 35, 28, 2, 5, 2, 0.0, 0, \"BB\", \"PRT\", \"Online TA\", \"TA/TO\", 0, 0, 0, \"A\", \"A\", 0, \"No Deposit\", 7.0, NaN, 0, \"Transient\", 85.59, 0, 1, \"Check-Out\", \"2017-09-04\"], [\"City Hotel\", 0, 212, 2017, \"August\", 35, 28, 2, 5, 2, 0.0, 0, \"BB\", \"PRT\", \"Online TA\", \"TA/TO\", 0, 0, 0, \"A\", \"A\", 0, \"No Deposit\", 7.0, NaN, 0, \"Transient\", 85.59, 0, 0, \"Check-Out\", \"2017-09-04\"], [\"City Hotel\", 0, 261, 2017, \"August\", 35, 30, 1, 4, 2, 0.0, 0, \"BB\", \"DEU\", \"Direct\", \"Direct\", 0, 0, 0, \"A\", \"A\", 0, \"No Deposit\", 14.0, NaN, 0, \"Transient\", 99.0, 0, 0, \"Check-Out\", \"2017-09-04\"], [\"City Hotel\", 0, 207, 2017, \"August\", 34, 25, 3, 7, 2, 0.0, 0, \"BB\", \"GBR\", \"Direct\", \"Direct\", 0, 0, 0, \"A\", \"A\", 0, \"No Deposit\", 14.0, NaN, 0, \"Transient\", 96.25, 0, 2, \"Check-Out\", \"2017-09-04\"], [\"City Hotel\", 0, 201, 2017, \"August\", 35, 30, 1, 4, 1, 0.0, 0, \"BB\", \"DEU\", \"Online TA\", \"TA/TO\", 0, 0, 0, \"A\", \"A\", 0, \"No Deposit\", 9.0, NaN, 0, \"Transient\", 108.0, 0, 2, \"Check-Out\", \"2017-09-04\"], [\"City Hotel\", 0, 175, 2017, \"August\", 35, 31, 1, 3, 2, 0.0, 0, \"BB\", \"NLD\", \"Offline TA/TO\", \"TA/TO\", 0, 0, 0, \"A\", \"A\", 1, \"No Deposit\", 42.0, NaN, 0, \"Transient\", 86.85, 0, 2, \"Check-Out\", \"2017-09-04\"], [\"City Hotel\", 0, 175, 2017, \"August\", 35, 31, 1, 3, 1, 0.0, 0, \"BB\", \"NLD\", \"Offline TA/TO\", \"TA/TO\", 0, 0, 0, \"A\", \"A\", 0, \"No Deposit\", 42.0, NaN, 0, \"Transient\", 82.35, 0, 1, \"Check-Out\", \"2017-09-04\"], [\"City Hotel\", 0, 175, 2017, \"August\", 35, 31, 1, 3, 1, 0.0, 0, \"BB\", \"NLD\", \"Offline TA/TO\", \"TA/TO\", 0, 0, 0, \"A\", \"A\", 0, \"No Deposit\", 42.0, NaN, 0, \"Transient\", 82.35, 0, 1, \"Check-Out\", \"2017-09-04\"], [\"City Hotel\", 0, 201, 2017, \"August\", 35, 29, 1, 5, 2, 0.0, 0, \"BB\", \"DEU\", \"Online TA\", \"TA/TO\", 0, 0, 0, \"A\", \"A\", 0, \"No Deposit\", 9.0, NaN, 0, \"Transient\", 117.0, 0, 2, \"Check-Out\", \"2017-09-04\"], [\"City Hotel\", 0, 200, 2017, \"August\", 35, 30, 1, 4, 2, 0.0, 0, \"BB\", \"AUT\", \"Offline TA/TO\", \"TA/TO\", 0, 0, 0, \"A\", \"A\", 0, \"No Deposit\", 16.0, NaN, 0, \"Transient\", 85.5, 0, 1, \"Check-Out\", \"2017-09-04\"], [\"City Hotel\", 0, 165, 2017, \"August\", 35, 29, 1, 5, 3, 0.0, 0, \"BB\", \"AUT\", \"Online TA\", \"TA/TO\", 0, 0, 0, \"E\", \"E\", 0, \"No Deposit\", 9.0, NaN, 0, \"Transient\", 209.25, 0, 3, \"Check-Out\", \"2017-09-04\"], [\"City Hotel\", 0, 185, 2017, \"August\", 35, 30, 1, 4, 2, 0.0, 0, \"SC\", \"CHE\", \"Online TA\", \"TA/TO\", 0, 0, 0, \"A\", \"A\", 0, \"No Deposit\", 9.0, NaN, 0, \"Transient\", 99.0, 0, 1, \"Check-Out\", \"2017-09-04\"], [\"City Hotel\", 0, 247, 2017, \"August\", 35, 31, 1, 3, 2, 0.0, 0, \"BB\", \"GBR\", \"Offline TA/TO\", \"TA/TO\", 0, 0, 0, \"A\", \"A\", 0, \"No Deposit\", 42.0, NaN, 0, \"Transient\", 86.85, 0, 0, \"Check-Out\", \"2017-09-04\"], [\"City Hotel\", 0, 109, 2017, \"August\", 35, 31, 1, 3, 2, 0.0, 0, \"BB\", \"GBR\", \"Online TA\", \"TA/TO\", 0, 0, 0, \"D\", \"D\", 0, \"No Deposit\", 9.0, NaN, 0, \"Transient\", 155.0, 0, 1, \"Check-Out\", \"2017-09-04\"], [\"City Hotel\", 0, 44, 2017, \"August\", 35, 31, 1, 3, 2, 0.0, 0, \"SC\", \"DEU\", \"Online TA\", \"TA/TO\", 0, 0, 0, \"A\", \"A\", 0, \"No Deposit\", 9.0, NaN, 0, \"Transient\", 140.75, 0, 1, \"Check-Out\", \"2017-09-04\"], [\"City Hotel\", 0, 188, 2017, \"August\", 35, 31, 2, 3, 2, 0.0, 0, \"BB\", \"DEU\", \"Direct\", \"Direct\", 0, 0, 0, \"A\", \"A\", 0, \"No Deposit\", 14.0, NaN, 0, \"Transient\", 99.0, 0, 0, \"Check-Out\", \"2017-09-05\"], [\"City Hotel\", 0, 135, 2017, \"August\", 35, 30, 2, 4, 3, 0.0, 0, \"BB\", \"JPN\", \"Online TA\", \"TA/TO\", 0, 0, 0, \"G\", \"G\", 0, \"No Deposit\", 7.0, NaN, 0, \"Transient\", 209.0, 0, 0, \"Check-Out\", \"2017-09-05\"], [\"City Hotel\", 0, 164, 2017, \"August\", 35, 31, 2, 4, 2, 0.0, 0, \"BB\", \"DEU\", \"Offline TA/TO\", \"TA/TO\", 0, 0, 0, \"A\", \"A\", 0, \"No Deposit\", 42.0, NaN, 0, \"Transient\", 87.6, 0, 0, \"Check-Out\", \"2017-09-06\"], [\"City Hotel\", 0, 21, 2017, \"August\", 35, 30, 2, 5, 2, 0.0, 0, \"BB\", \"BEL\", \"Offline TA/TO\", \"TA/TO\", 0, 0, 0, \"A\", \"A\", 0, \"No Deposit\", 394.0, NaN, 0, \"Transient\", 96.14, 0, 2, \"Check-Out\", \"2017-09-06\"], [\"City Hotel\", 0, 23, 2017, \"August\", 35, 30, 2, 5, 2, 0.0, 0, \"BB\", \"BEL\", \"Offline TA/TO\", \"TA/TO\", 0, 0, 0, \"A\", \"A\", 0, \"No Deposit\", 394.0, NaN, 0, \"Transient\", 96.14, 0, 0, \"Check-Out\", \"2017-09-06\"], [\"City Hotel\", 0, 102, 2017, \"August\", 35, 31, 2, 5, 3, 0.0, 0, \"BB\", \"FRA\", \"Online TA\", \"TA/TO\", 0, 0, 0, \"E\", \"E\", 0, \"No Deposit\", 9.0, NaN, 0, \"Transient\", 225.43, 0, 2, \"Check-Out\", \"2017-09-07\"], [\"City Hotel\", 0, 34, 2017, \"August\", 35, 31, 2, 5, 2, 0.0, 0, \"BB\", \"DEU\", \"Online TA\", \"TA/TO\", 0, 0, 0, \"D\", \"D\", 0, \"No Deposit\", 9.0, NaN, 0, \"Transient\", 157.71, 0, 4, \"Check-Out\", \"2017-09-07\"], [\"City Hotel\", 0, 109, 2017, \"August\", 35, 31, 2, 5, 2, 0.0, 0, \"BB\", \"GBR\", \"Online TA\", \"TA/TO\", 0, 0, 0, \"A\", \"A\", 0, \"No Deposit\", 89.0, NaN, 0, \"Transient\", 104.4, 0, 0, \"Check-Out\", \"2017-09-07\"], [\"City Hotel\", 0, 205, 2017, \"August\", 35, 29, 2, 7, 2, 0.0, 0, \"HB\", \"DEU\", \"Online TA\", \"TA/TO\", 0, 0, 0, \"A\", \"A\", 0, \"No Deposit\", 9.0, NaN, 0, \"Transient\", 151.2, 0, 2, \"Check-Out\", \"2017-09-07\"]];\n",
       "\n",
       "        // Define the dt_args\n",
       "        let dt_args = {\"layout\": {\"topStart\": \"pageLength\", \"topEnd\": \"search\", \"bottomStart\": \"info\", \"bottomEnd\": \"paging\"}, \"order\": [], \"fnInfoCallback\": function (oSettings, iStart, iEnd, iMax, iTotal, sPre) { return sPre + ' (<a href=\"https://mwouts.github.io/itables/downsampling.html\">downsampled</a> from 119,390x32 to 255x32 as maxBytes=64KB)'; }};\n",
       "        dt_args[\"data\"] = data;\n",
       "\n",
       "        \n",
       "        new DataTable(table, dt_args);\n",
       "    });\n",
       "</script>\n"
      ],
      "text/plain": [
       "<IPython.core.display.HTML object>"
      ]
     },
     "metadata": {},
     "output_type": "display_data"
    }
   ],
   "source": [
    "show(DF_raw_hotels)"
   ]
  },
  {
   "cell_type": "markdown",
   "id": "f359fa7d-4856-4fcd-8e18-fcf93dd9d0be",
   "metadata": {},
   "source": [
    "**Q1** Can you figure out how you would focus on multiple columns? We have done this before so see if you can remember the command. It's okay if you need to copy and paste!"
   ]
  },
  {
   "cell_type": "code",
   "execution_count": 27,
   "id": "91f08a89-353d-454a-8708-c9c5e50afb34",
   "metadata": {},
   "outputs": [
    {
     "data": {
      "text/html": [
       "<div>\n",
       "<style scoped>\n",
       "    .dataframe tbody tr th:only-of-type {\n",
       "        vertical-align: middle;\n",
       "    }\n",
       "\n",
       "    .dataframe tbody tr th {\n",
       "        vertical-align: top;\n",
       "    }\n",
       "\n",
       "    .dataframe thead th {\n",
       "        text-align: right;\n",
       "    }\n",
       "</style>\n",
       "<table border=\"1\" class=\"dataframe\">\n",
       "  <thead>\n",
       "    <tr style=\"text-align: right;\">\n",
       "      <th></th>\n",
       "      <th>stays_in_weekend_nights</th>\n",
       "      <th>stays_in_week_nights</th>\n",
       "    </tr>\n",
       "  </thead>\n",
       "  <tbody>\n",
       "    <tr>\n",
       "      <th>0</th>\n",
       "      <td>0</td>\n",
       "      <td>0</td>\n",
       "    </tr>\n",
       "    <tr>\n",
       "      <th>1</th>\n",
       "      <td>0</td>\n",
       "      <td>0</td>\n",
       "    </tr>\n",
       "    <tr>\n",
       "      <th>2</th>\n",
       "      <td>0</td>\n",
       "      <td>1</td>\n",
       "    </tr>\n",
       "    <tr>\n",
       "      <th>3</th>\n",
       "      <td>0</td>\n",
       "      <td>1</td>\n",
       "    </tr>\n",
       "    <tr>\n",
       "      <th>4</th>\n",
       "      <td>0</td>\n",
       "      <td>2</td>\n",
       "    </tr>\n",
       "    <tr>\n",
       "      <th>...</th>\n",
       "      <td>...</td>\n",
       "      <td>...</td>\n",
       "    </tr>\n",
       "    <tr>\n",
       "      <th>119385</th>\n",
       "      <td>2</td>\n",
       "      <td>5</td>\n",
       "    </tr>\n",
       "    <tr>\n",
       "      <th>119386</th>\n",
       "      <td>2</td>\n",
       "      <td>5</td>\n",
       "    </tr>\n",
       "    <tr>\n",
       "      <th>119387</th>\n",
       "      <td>2</td>\n",
       "      <td>5</td>\n",
       "    </tr>\n",
       "    <tr>\n",
       "      <th>119388</th>\n",
       "      <td>2</td>\n",
       "      <td>5</td>\n",
       "    </tr>\n",
       "    <tr>\n",
       "      <th>119389</th>\n",
       "      <td>2</td>\n",
       "      <td>7</td>\n",
       "    </tr>\n",
       "  </tbody>\n",
       "</table>\n",
       "<p>119390 rows × 2 columns</p>\n",
       "</div>"
      ],
      "text/plain": [
       "        stays_in_weekend_nights  stays_in_week_nights\n",
       "0                             0                     0\n",
       "1                             0                     0\n",
       "2                             0                     1\n",
       "3                             0                     1\n",
       "4                             0                     2\n",
       "...                         ...                   ...\n",
       "119385                        2                     5\n",
       "119386                        2                     5\n",
       "119387                        2                     5\n",
       "119388                        2                     5\n",
       "119389                        2                     7\n",
       "\n",
       "[119390 rows x 2 columns]"
      ]
     },
     "execution_count": 27,
     "metadata": {},
     "output_type": "execute_result"
    }
   ],
   "source": [
    "# Your code here\n",
    "my_columns = ['stays_in_weekend_nights','stays_in_week_nights']\n",
    "DF_raw_hotels[my_columns]"
   ]
  },
  {
   "cell_type": "markdown",
   "id": "ca5017c2-75b6-44e9-b71c-85f65c2bc4f6",
   "metadata": {},
   "source": [
    "#### Sorting Example - Descending order"
   ]
  },
  {
   "cell_type": "code",
   "execution_count": null,
   "id": "1c4d7619-53d6-4de3-8f5b-578e080294d7",
   "metadata": {},
   "outputs": [],
   "source": [
    "my_columns = ['hotel','lead_time']\n",
    "DF_lead_time_sorted = DF_raw_hotels[my_columns].sort_values('lead_time', ascending=False)\n",
    "show(DF_lead_time_sorted)"
   ]
  },
  {
   "cell_type": "markdown",
   "id": "18d33eb8-3d1b-4e86-8323-bbae51fc9567",
   "metadata": {},
   "source": [
    "**Q2** Choose another set of variables (columns) that you can explore. Try sorting them ascending and descending."
   ]
  },
  {
   "cell_type": "code",
   "execution_count": 37,
   "id": "7ac7433c-89b6-4cbd-985a-bf0579364229",
   "metadata": {},
   "outputs": [
    {
     "data": {
      "text/plain": [
       "Index(['hotel', 'is_canceled', 'lead_time', 'arrival_date_year',\n",
       "       'arrival_date_month', 'arrival_date_week_number',\n",
       "       'arrival_date_day_of_month', 'stays_in_weekend_nights',\n",
       "       'stays_in_week_nights', 'adults', 'children', 'babies', 'meal',\n",
       "       'country', 'market_segment', 'distribution_channel',\n",
       "       'is_repeated_guest', 'previous_cancellations',\n",
       "       'previous_bookings_not_canceled', 'reserved_room_type',\n",
       "       'assigned_room_type', 'booking_changes', 'deposit_type', 'agent',\n",
       "       'company', 'days_in_waiting_list', 'customer_type', 'adr',\n",
       "       'required_car_parking_spaces', 'total_of_special_requests',\n",
       "       'reservation_status', 'reservation_status_date'],\n",
       "      dtype='object')"
      ]
     },
     "execution_count": 37,
     "metadata": {},
     "output_type": "execute_result"
    }
   ],
   "source": [
    "DF_raw_hotels.keys()"
   ]
  },
  {
   "cell_type": "code",
   "execution_count": 41,
   "id": "7ef50625-57ec-42ac-9916-ae672f00878e",
   "metadata": {},
   "outputs": [
    {
     "data": {
      "text/html": [
       "<div>\n",
       "<style scoped>\n",
       "    .dataframe tbody tr th:only-of-type {\n",
       "        vertical-align: middle;\n",
       "    }\n",
       "\n",
       "    .dataframe tbody tr th {\n",
       "        vertical-align: top;\n",
       "    }\n",
       "\n",
       "    .dataframe thead th {\n",
       "        text-align: right;\n",
       "    }\n",
       "</style>\n",
       "<table border=\"1\" class=\"dataframe\">\n",
       "  <thead>\n",
       "    <tr style=\"text-align: right;\">\n",
       "      <th></th>\n",
       "      <th>stays_in_weekend_nights</th>\n",
       "      <th>stays_in_week_nights</th>\n",
       "    </tr>\n",
       "  </thead>\n",
       "  <tbody>\n",
       "    <tr>\n",
       "      <th>14038</th>\n",
       "      <td>19</td>\n",
       "      <td>50</td>\n",
       "    </tr>\n",
       "    <tr>\n",
       "      <th>14037</th>\n",
       "      <td>18</td>\n",
       "      <td>42</td>\n",
       "    </tr>\n",
       "    <tr>\n",
       "      <th>9839</th>\n",
       "      <td>16</td>\n",
       "      <td>40</td>\n",
       "    </tr>\n",
       "    <tr>\n",
       "      <th>101794</th>\n",
       "      <td>16</td>\n",
       "      <td>41</td>\n",
       "    </tr>\n",
       "    <tr>\n",
       "      <th>33924</th>\n",
       "      <td>16</td>\n",
       "      <td>40</td>\n",
       "    </tr>\n",
       "    <tr>\n",
       "      <th>...</th>\n",
       "      <td>...</td>\n",
       "      <td>...</td>\n",
       "    </tr>\n",
       "    <tr>\n",
       "      <th>59699</th>\n",
       "      <td>0</td>\n",
       "      <td>3</td>\n",
       "    </tr>\n",
       "    <tr>\n",
       "      <th>59700</th>\n",
       "      <td>0</td>\n",
       "      <td>3</td>\n",
       "    </tr>\n",
       "    <tr>\n",
       "      <th>59701</th>\n",
       "      <td>0</td>\n",
       "      <td>3</td>\n",
       "    </tr>\n",
       "    <tr>\n",
       "      <th>59702</th>\n",
       "      <td>0</td>\n",
       "      <td>3</td>\n",
       "    </tr>\n",
       "    <tr>\n",
       "      <th>59695</th>\n",
       "      <td>0</td>\n",
       "      <td>3</td>\n",
       "    </tr>\n",
       "  </tbody>\n",
       "</table>\n",
       "<p>119390 rows × 2 columns</p>\n",
       "</div>"
      ],
      "text/plain": [
       "        stays_in_weekend_nights  stays_in_week_nights\n",
       "14038                        19                    50\n",
       "14037                        18                    42\n",
       "9839                         16                    40\n",
       "101794                       16                    41\n",
       "33924                        16                    40\n",
       "...                         ...                   ...\n",
       "59699                         0                     3\n",
       "59700                         0                     3\n",
       "59701                         0                     3\n",
       "59702                         0                     3\n",
       "59695                         0                     3\n",
       "\n",
       "[119390 rows x 2 columns]"
      ]
     },
     "execution_count": 41,
     "metadata": {},
     "output_type": "execute_result"
    }
   ],
   "source": [
    "# Your code here:\n",
    "my_columns = ['stays_in_weekend_nights','stays_in_week_nights']\n",
    "DF_raw_hotels[my_columns].sort_values('stays_in_weekend_nights',ascending=False)"
   ]
  },
  {
   "cell_type": "markdown",
   "id": "40947dba-cf3a-442e-b760-7502cd4ad9f0",
   "metadata": {},
   "source": [
    "**Q3** What would happen if you tried to sort categorical data? Try sorting by the column \"arrival_date_month\". Do you get an error? Does it sort it? If so how is it sorted?"
   ]
  },
  {
   "cell_type": "code",
   "execution_count": 47,
   "id": "b58b40e4-009d-406d-882f-86ce5465d9d1",
   "metadata": {},
   "outputs": [
    {
     "data": {
      "text/plain": [
       "0          True\n",
       "1          True\n",
       "2          True\n",
       "3          True\n",
       "4          True\n",
       "          ...  \n",
       "119385    False\n",
       "119386    False\n",
       "119387    False\n",
       "119388    False\n",
       "119389    False\n",
       "Name: hotel, Length: 119390, dtype: bool"
      ]
     },
     "execution_count": 47,
     "metadata": {},
     "output_type": "execute_result"
    }
   ],
   "source": [
    "# Your code here:\n",
    "DF_raw_hotels['hotel']== 'Resort Hotel'"
   ]
  },
  {
   "cell_type": "markdown",
   "id": "93356ebc-6ed4-488a-a902-a7a505ed299b",
   "metadata": {},
   "source": [
    "### Boolean Mask Example - Subsellect Data\n",
    "\n",
    "Here is an example of focusing only on 'Resort Hotel' data in the 'hotel' column"
   ]
  },
  {
   "cell_type": "code",
   "execution_count": null,
   "id": "dff47264-5478-429e-8600-bb2c6fcfaf31",
   "metadata": {},
   "outputs": [],
   "source": [
    "mask = DF_lead_time_sorted['hotel']== 'Resort Hotel'\n",
    "show(DF_lead_time_sorted[mask])"
   ]
  },
  {
   "cell_type": "markdown",
   "id": "5df6813f-2633-4c52-8861-60bed3de07b5",
   "metadata": {},
   "source": [
    "**Problem 1** Can you create a data frame that:\n",
    "\n",
    "1. Selects the columns \"hotel\", \"year\", and \"month\"\n",
    "2. Sorts by year ascending.\n",
    "3. Masks to only show the month of \"August\""
   ]
  },
  {
   "cell_type": "code",
   "execution_count": 53,
   "id": "1180f2af-dc30-42b6-ac92-935ea07898f0",
   "metadata": {},
   "outputs": [
    {
     "data": {
      "text/html": [
       "<div>\n",
       "<style scoped>\n",
       "    .dataframe tbody tr th:only-of-type {\n",
       "        vertical-align: middle;\n",
       "    }\n",
       "\n",
       "    .dataframe tbody tr th {\n",
       "        vertical-align: top;\n",
       "    }\n",
       "\n",
       "    .dataframe thead th {\n",
       "        text-align: right;\n",
       "    }\n",
       "</style>\n",
       "<table border=\"1\" class=\"dataframe\">\n",
       "  <thead>\n",
       "    <tr style=\"text-align: right;\">\n",
       "      <th></th>\n",
       "      <th>hotel</th>\n",
       "      <th>arrival_date_year</th>\n",
       "      <th>arrival_date_month</th>\n",
       "    </tr>\n",
       "  </thead>\n",
       "  <tbody>\n",
       "    <tr>\n",
       "      <th>0</th>\n",
       "      <td>Resort Hotel</td>\n",
       "      <td>2015</td>\n",
       "      <td>July</td>\n",
       "    </tr>\n",
       "    <tr>\n",
       "      <th>19240</th>\n",
       "      <td>Resort Hotel</td>\n",
       "      <td>2015</td>\n",
       "      <td>December</td>\n",
       "    </tr>\n",
       "    <tr>\n",
       "      <th>19239</th>\n",
       "      <td>Resort Hotel</td>\n",
       "      <td>2015</td>\n",
       "      <td>December</td>\n",
       "    </tr>\n",
       "    <tr>\n",
       "      <th>41873</th>\n",
       "      <td>City Hotel</td>\n",
       "      <td>2015</td>\n",
       "      <td>August</td>\n",
       "    </tr>\n",
       "    <tr>\n",
       "      <th>41874</th>\n",
       "      <td>City Hotel</td>\n",
       "      <td>2015</td>\n",
       "      <td>August</td>\n",
       "    </tr>\n",
       "    <tr>\n",
       "      <th>...</th>\n",
       "      <td>...</td>\n",
       "      <td>...</td>\n",
       "      <td>...</td>\n",
       "    </tr>\n",
       "    <tr>\n",
       "      <th>64927</th>\n",
       "      <td>City Hotel</td>\n",
       "      <td>2017</td>\n",
       "      <td>March</td>\n",
       "    </tr>\n",
       "    <tr>\n",
       "      <th>64926</th>\n",
       "      <td>City Hotel</td>\n",
       "      <td>2017</td>\n",
       "      <td>March</td>\n",
       "    </tr>\n",
       "    <tr>\n",
       "      <th>64925</th>\n",
       "      <td>City Hotel</td>\n",
       "      <td>2017</td>\n",
       "      <td>March</td>\n",
       "    </tr>\n",
       "    <tr>\n",
       "      <th>64923</th>\n",
       "      <td>City Hotel</td>\n",
       "      <td>2017</td>\n",
       "      <td>March</td>\n",
       "    </tr>\n",
       "    <tr>\n",
       "      <th>119389</th>\n",
       "      <td>City Hotel</td>\n",
       "      <td>2017</td>\n",
       "      <td>August</td>\n",
       "    </tr>\n",
       "  </tbody>\n",
       "</table>\n",
       "<p>119390 rows × 3 columns</p>\n",
       "</div>"
      ],
      "text/plain": [
       "               hotel  arrival_date_year arrival_date_month\n",
       "0       Resort Hotel               2015               July\n",
       "19240   Resort Hotel               2015           December\n",
       "19239   Resort Hotel               2015           December\n",
       "41873     City Hotel               2015             August\n",
       "41874     City Hotel               2015             August\n",
       "...              ...                ...                ...\n",
       "64927     City Hotel               2017              March\n",
       "64926     City Hotel               2017              March\n",
       "64925     City Hotel               2017              March\n",
       "64923     City Hotel               2017              March\n",
       "119389    City Hotel               2017             August\n",
       "\n",
       "[119390 rows x 3 columns]"
      ]
     },
     "execution_count": 53,
     "metadata": {},
     "output_type": "execute_result"
    }
   ],
   "source": [
    "# Your code here\n",
    "my_columns = [ 'hotel' , 'arrival_date_year' , 'arrival_date_month']\n",
    "DF_raw_hotels[my_columns].sort_values('arrival_date_year')"
   ]
  },
  {
   "cell_type": "markdown",
   "id": "0b8c7a29-c6d0-455d-914d-5a7196ff7216",
   "metadata": {},
   "source": [
    "#### Basic Operators\n",
    "\n",
    "| Operator | Definition |\n",
    "|----------|------------|\n",
    "|<|less than|\n",
    "|>|greater than|\n",
    "|<=| less than or equal to|\n",
    "|>=| greater than or equal to|\n",
    "|==| exactly equal to|\n",
    "|!=| not equal to|\n",
    "\n",
    "#### Advanced Operators\n",
    "\n",
    "| Operator | Definition |\n",
    "|----------|------------|\n",
    "| and | check if two things are both true|\n",
    "| or | check if one of two things is true|\n",
    "| in | checks if something is in another thing|\n",
    "| ! | not checks if something is false|\n",
    "\n",
    "**Q4** Try to say whether each cell will print true or false before running the code:"
   ]
  },
  {
   "cell_type": "code",
   "execution_count": 55,
   "id": "f7bde4cb-1929-47b2-ab80-08730b61e4a9",
   "metadata": {},
   "outputs": [
    {
     "data": {
      "text/plain": [
       "True"
      ]
     },
     "execution_count": 55,
     "metadata": {},
     "output_type": "execute_result"
    }
   ],
   "source": [
    "3<10"
   ]
  },
  {
   "cell_type": "code",
   "execution_count": 57,
   "id": "be806e74-60c5-44cd-b282-2bc86511c49e",
   "metadata": {},
   "outputs": [
    {
     "data": {
      "text/plain": [
       "False"
      ]
     },
     "execution_count": 57,
     "metadata": {},
     "output_type": "execute_result"
    }
   ],
   "source": [
    "10<3"
   ]
  },
  {
   "cell_type": "code",
   "execution_count": 59,
   "id": "3291fc27-83cd-4fcd-952a-f73b849707f0",
   "metadata": {},
   "outputs": [
    {
     "data": {
      "text/plain": [
       "True"
      ]
     },
     "execution_count": 59,
     "metadata": {},
     "output_type": "execute_result"
    }
   ],
   "source": [
    "3<10 and 2<10"
   ]
  },
  {
   "cell_type": "code",
   "execution_count": 61,
   "id": "2b52aca6-95da-4ad3-bc4b-e9b8c3c11f4e",
   "metadata": {},
   "outputs": [
    {
     "data": {
      "text/plain": [
       "True"
      ]
     },
     "execution_count": 61,
     "metadata": {},
     "output_type": "execute_result"
    }
   ],
   "source": [
    "'cat' == 'cat'"
   ]
  },
  {
   "cell_type": "code",
   "execution_count": 63,
   "id": "af63a581-704d-4685-927d-eaa8538158f8",
   "metadata": {},
   "outputs": [
    {
     "data": {
      "text/plain": [
       "False"
      ]
     },
     "execution_count": 63,
     "metadata": {},
     "output_type": "execute_result"
    }
   ],
   "source": [
    "'CAT'=='cat'"
   ]
  },
  {
   "cell_type": "code",
   "execution_count": null,
   "id": "d6683f6d-a6f4-4e50-bde1-88738de8556f",
   "metadata": {},
   "outputs": [],
   "source": [
    "'CAT'!='cat'"
   ]
  },
  {
   "cell_type": "code",
   "execution_count": 65,
   "id": "f393facf-8051-4c78-a203-1d56c82525b8",
   "metadata": {},
   "outputs": [
    {
     "data": {
      "text/plain": [
       "True"
      ]
     },
     "execution_count": 65,
     "metadata": {},
     "output_type": "execute_result"
    }
   ],
   "source": [
    "2<=2"
   ]
  },
  {
   "cell_type": "code",
   "execution_count": 67,
   "id": "0a7a484d-6a34-40ee-b1af-ad87a941bd76",
   "metadata": {},
   "outputs": [
    {
     "data": {
      "text/plain": [
       "True"
      ]
     },
     "execution_count": 67,
     "metadata": {},
     "output_type": "execute_result"
    }
   ],
   "source": [
    "2<=2 or 2<1"
   ]
  },
  {
   "cell_type": "code",
   "execution_count": 69,
   "id": "d53501f7-6c98-4469-a972-58fe3730c253",
   "metadata": {},
   "outputs": [
    {
     "data": {
      "text/plain": [
       "True"
      ]
     },
     "execution_count": 69,
     "metadata": {},
     "output_type": "execute_result"
    }
   ],
   "source": [
    "my_numbers = [3,6,18,42]\n",
    "42 in my_numbers"
   ]
  },
  {
   "cell_type": "markdown",
   "id": "51cdf704-b615-4dde-828f-228205e74d4a",
   "metadata": {},
   "source": [
    "**Q5** Create 5 more logical operator tests and show the results."
   ]
  },
  {
   "cell_type": "code",
   "execution_count": 71,
   "id": "6a4cde01-1642-475f-a182-94c2396ee3dd",
   "metadata": {},
   "outputs": [
    {
     "data": {
      "text/plain": [
       "True"
      ]
     },
     "execution_count": 71,
     "metadata": {},
     "output_type": "execute_result"
    }
   ],
   "source": [
    "# Your code here\n",
    "23<=25"
   ]
  },
  {
   "cell_type": "code",
   "execution_count": 73,
   "id": "c8e2ef3d-5a0f-4932-9581-7b18e9cd594e",
   "metadata": {},
   "outputs": [
    {
     "data": {
      "text/plain": [
       "False"
      ]
     },
     "execution_count": 73,
     "metadata": {},
     "output_type": "execute_result"
    }
   ],
   "source": [
    "# Your code here\n",
    "25>=32"
   ]
  },
  {
   "cell_type": "code",
   "execution_count": 77,
   "id": "3ab96a18-1e73-4a50-b7f0-446eae8f0a75",
   "metadata": {},
   "outputs": [
    {
     "data": {
      "text/plain": [
       "False"
      ]
     },
     "execution_count": 77,
     "metadata": {},
     "output_type": "execute_result"
    }
   ],
   "source": [
    "# Your code here\n",
    "'Ant'=='ant'"
   ]
  },
  {
   "cell_type": "code",
   "execution_count": 79,
   "id": "b0354c53-3847-415a-8734-8880f5387c3d",
   "metadata": {},
   "outputs": [
    {
     "data": {
      "text/plain": [
       "False"
      ]
     },
     "execution_count": 79,
     "metadata": {},
     "output_type": "execute_result"
    }
   ],
   "source": [
    "# Your code here\n",
    "3<=5 != 3>4"
   ]
  },
  {
   "cell_type": "code",
   "execution_count": 81,
   "id": "12cf2b75-6da1-4866-8853-164dee7cc9f8",
   "metadata": {},
   "outputs": [
    {
     "data": {
      "text/plain": [
       "False"
      ]
     },
     "execution_count": 81,
     "metadata": {},
     "output_type": "execute_result"
    }
   ],
   "source": [
    "# Your code here\n",
    "2==3"
   ]
  },
  {
   "cell_type": "markdown",
   "id": "1be81adb-6c24-41d7-84c3-750941aca771",
   "metadata": {},
   "source": [
    "### Follow Along - Example Analysis\n",
    "\n",
    "Now that we know some logical operators we can create fancier boolean masks and get more interesting subsets of our data. Here is a mini analysis of our data using what we know so far. See if you can figure out what each command is doing. \n",
    "\n",
    "**Q6** Add your comments explaining the code:\n"
   ]
  },
  {
   "cell_type": "code",
   "execution_count": null,
   "id": "8868552c-35e7-4534-b7ba-99d3882ce97e",
   "metadata": {},
   "outputs": [],
   "source": [
    "# Add your comments: \n",
    "DF_raw_hotels['country'].value_counts()"
   ]
  },
  {
   "cell_type": "markdown",
   "id": "3200de72-7acc-4ecd-977f-31ae0031fe43",
   "metadata": {},
   "source": [
    "Wow there is a lot of data for PRT (Portugal)!"
   ]
  },
  {
   "cell_type": "code",
   "execution_count": null,
   "id": "b4da6a98-7728-4f4b-ba9e-ad0f96dddc20",
   "metadata": {},
   "outputs": [],
   "source": [
    "# Here I am defining the variables (columns) I care about\n",
    "my_country = 'PRT'\n",
    "my_columns = ['hotel',\n",
    "              'arrival_date_year',\n",
    "              'is_canceled', \n",
    "              'arrival_date_month',\n",
    "              'country']\n",
    "sort_column = 'arrival_date_year'\n",
    "\n",
    "# Add your comments:\n",
    "DF_mini_analysis = DF_raw_hotels[my_columns].sort_values(sort_column).copy()\n",
    "show(DF_mini_analysis)"
   ]
  },
  {
   "cell_type": "code",
   "execution_count": null,
   "id": "8a9cf9b0-d1c8-4a9d-8e10-6a57b8d542b7",
   "metadata": {},
   "outputs": [],
   "source": [
    "# What does this first mask do?\n",
    "# Your comments:\n",
    "mask_country = DF_mini_analysis['country']==my_country\n",
    "DF_mini_analysis_masked = DF_mini_analysis[mask_country]\n",
    "show(DF_mini_analysis_masked)"
   ]
  },
  {
   "cell_type": "code",
   "execution_count": null,
   "id": "b52575a1-4dc8-40ef-89cb-1102bf0a152f",
   "metadata": {},
   "outputs": [],
   "source": [
    "# What does this second mask do?\n",
    "# Your comments:\n",
    "mask_years = DF_mini_analysis_masked['arrival_date_year']>2015\n",
    "DF_mini_analysis_masked = DF_mini_analysis_masked[mask_years] \n",
    "# Notice that I wrote over my data in the command above\n",
    "\n",
    "show(DF_mini_analysis_masked)"
   ]
  },
  {
   "cell_type": "code",
   "execution_count": null,
   "id": "13fe9b2a-5a48-4944-8b77-fa8bc3e4fc0e",
   "metadata": {},
   "outputs": [],
   "source": [
    "fig = px.histogram(DF_mini_analysis_masked,\n",
    "                  x='arrival_date_month',\n",
    "                  color='hotel',\n",
    "                  facet_col='is_canceled',\n",
    "                  facet_col_wrap=1)\n",
    "\n",
    "fig.update_layout(title='Number of Hotels Booked Each Month in Portugal',\n",
    "                  title_x=0.5,\n",
    "                  xaxis_title=\"Month\",\n",
    "                  autosize=False,\n",
    "                  width=800,\n",
    "                  height=500)\n",
    "fig.show()"
   ]
  },
  {
   "cell_type": "markdown",
   "id": "b5260515-0d9d-493f-bda5-93ac14ed697b",
   "metadata": {},
   "source": [
    "**Q7** What exactly is this histogram showing and what is excluded based on the analysis we did above? Is there anything interesting about the graph? Any questions raised?"
   ]
  },
  {
   "cell_type": "markdown",
   "id": "9d3e7e43-fcfd-4b94-b3b4-9307cc4f21de",
   "metadata": {},
   "source": [
    "through analysis we see that it excludes lead time ."
   ]
  },
  {
   "cell_type": "markdown",
   "id": "b8f37f81-5348-4d73-9a6e-2cc61b8dbf41",
   "metadata": {},
   "source": [
    "**Problem 2** Now it's your turn to do a mini analysis. Please do the following:\n",
    "\n",
    "1. Choose a subset of columns that you are interested in and look just at those column.\n",
    "2. Make at least one mask that will remove some of the data (eg. look only at one categorical value OR one or more numerical values.\n",
    "3. Sort the data using one of the columns.\n",
    "4. Make a histogram or bar graph of your final data set.\n",
    "5. Describe in words what you see in your graph, or if there is anything interesting there."
   ]
  },
  {
   "cell_type": "code",
   "execution_count": 83,
   "id": "6f599fda-c047-4115-bb11-2db27d0dd724",
   "metadata": {},
   "outputs": [
    {
     "data": {
      "text/html": [
       "<div>\n",
       "<style scoped>\n",
       "    .dataframe tbody tr th:only-of-type {\n",
       "        vertical-align: middle;\n",
       "    }\n",
       "\n",
       "    .dataframe tbody tr th {\n",
       "        vertical-align: top;\n",
       "    }\n",
       "\n",
       "    .dataframe thead th {\n",
       "        text-align: right;\n",
       "    }\n",
       "</style>\n",
       "<table border=\"1\" class=\"dataframe\">\n",
       "  <thead>\n",
       "    <tr style=\"text-align: right;\">\n",
       "      <th></th>\n",
       "      <th>meal</th>\n",
       "      <th>country</th>\n",
       "      <th>adults</th>\n",
       "    </tr>\n",
       "  </thead>\n",
       "  <tbody>\n",
       "  </tbody>\n",
       "</table>\n",
       "</div>"
      ],
      "text/plain": [
       "Empty DataFrame\n",
       "Columns: [meal, country, adults]\n",
       "Index: []"
      ]
     },
     "execution_count": 83,
     "metadata": {},
     "output_type": "execute_result"
    }
   ],
   "source": [
    "# Your code here - you will probably need more than one cell\n",
    "my_columns = ['meal','country','adults']\n",
    "DF_raw_hotels[my_columns]\n",
    "\n",
    "DF_raw_hotels[my_columns].sort_values('country', ascending=False)\n",
    "\n",
    "DF_country_sorted = DF_raw_hotels[my_columns].sort_values('country',ascending = False).copy()\n",
    "\n",
    "mask = DF_country_sorted['meal']=='country'\n",
    "DF_country_sorted[mask]\n"
   ]
  },
  {
   "cell_type": "markdown",
   "id": "a17327fb-7c11-4dbe-b565-05ccb5d59f4a",
   "metadata": {},
   "source": [
    "# End Of Homework\n",
    "\n",
    "### Everything below here is extra - just so you have a copy of the code I showed in lecture.\n",
    "\n",
    "### Excluding variables - removing one column (Extra)\n",
    "\n",
    "There are a few ways to get rid of columns. The first would be to write down ALL the columns and leave out one. Let's say we want to leave out information about the \"agent\" variable."
   ]
  },
  {
   "cell_type": "code",
   "execution_count": null,
   "id": "568b8ced-fad9-450c-b488-703aef19d734",
   "metadata": {},
   "outputs": [],
   "source": [
    "# First get all of them\n",
    "my_columns = list(DF_raw_hotels.keys())\n",
    "# Then remove the one you don't want\n",
    "my_columns.remove('agent')\n",
    "# Then get the new data frame\n",
    "DF_raw_hotels[my_columns]"
   ]
  },
  {
   "cell_type": "markdown",
   "id": "193511d0-f894-4d1c-bf42-226e02751e9c",
   "metadata": {},
   "source": [
    "### Fancy ways to get columns (Extra - ADVANCED)\n",
    "\n",
    "There are fancy ways to get a list of columns that you might be interested in.\n",
    "\n",
    "#### Starts with\n",
    "\n",
    "You can use the command **startswith()** to check if a variable starts with a word or part of a word. Here is code to get only columns that start with the word \"arrival\":"
   ]
  },
  {
   "cell_type": "code",
   "execution_count": null,
   "id": "5f544961-5061-486e-8056-22ac21064895",
   "metadata": {},
   "outputs": [],
   "source": [
    "# Get the list of all the columns\n",
    "columns_list = list(DF_raw_hotels.keys())\n",
    "# Get true false values using the startswith() comand\n",
    "column_mask = [column.startswith('arrival') for column in columns_list]\n",
    "# Mask the column names to get just the ones you want and make a list\n",
    "my_columns = list(DF_raw_hotels.keys()[column_mask])\n",
    "print(my_columns)"
   ]
  },
  {
   "cell_type": "markdown",
   "id": "28f643ca-c554-4884-ab7f-462781491ba5",
   "metadata": {},
   "source": [
    "#### Ends with\n",
    "\n",
    "You can use the command **endswith()** to check if a variable ends with a word or part of a word. Here is code to get only columns that end with the word \"type\":"
   ]
  },
  {
   "cell_type": "code",
   "execution_count": null,
   "id": "cf9d2596-63f1-49a9-9abe-daa4c26330a2",
   "metadata": {},
   "outputs": [],
   "source": [
    "# Get the list of all the columns\n",
    "columns_list = list(DF_raw_hotels.keys())\n",
    "# Get true false values using the startswith() comand\n",
    "column_mask = [column.endswith('type') for column in columns_list]\n",
    "# Mask the column names to get just the ones you want and make a list\n",
    "my_columns = list(DF_raw_hotels.keys()[column_mask])\n",
    "print(my_columns)"
   ]
  },
  {
   "cell_type": "markdown",
   "id": "996a955f-94b0-4cce-bb53-91c596bb8ff4",
   "metadata": {},
   "source": [
    "#### IN\n",
    "\n",
    "You can use the Python check  **is in** to check if a variable contains a word or part of a word. Here is code to get only columns that contain the word \"date\":"
   ]
  },
  {
   "cell_type": "code",
   "execution_count": null,
   "id": "b9d27002-f922-4315-b0c9-d45dca31ad8d",
   "metadata": {},
   "outputs": [],
   "source": [
    "# Get the list of all the columns\n",
    "columns_list = list(DF_raw_hotels.keys())\n",
    "# Get true false values using the startswith() comand\n",
    "column_mask = [\"date\" in column for column in columns_list]\n",
    "# Mask the column names to get just the ones you want and make a list\n",
    "my_columns = list(DF_raw_hotels.keys()[column_mask])\n",
    "print(my_columns)"
   ]
  },
  {
   "cell_type": "code",
   "execution_count": null,
   "id": "46f71d59-92bc-4c6a-a722-a32b44574bb1",
   "metadata": {},
   "outputs": [],
   "source": []
  }
 ],
 "metadata": {
  "kernelspec": {
   "display_name": "Python 3 (ipykernel)",
   "language": "python",
   "name": "python3"
  },
  "language_info": {
   "codemirror_mode": {
    "name": "ipython",
    "version": 3
   },
   "file_extension": ".py",
   "mimetype": "text/x-python",
   "name": "python",
   "nbconvert_exporter": "python",
   "pygments_lexer": "ipython3",
   "version": "3.12.3"
  }
 },
 "nbformat": 4,
 "nbformat_minor": 5
}
